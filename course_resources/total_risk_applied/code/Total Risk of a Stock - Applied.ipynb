{
 "cells": [
  {
   "attachments": {
    "Fervent%20Logo%20-%20Video%20Overlay%20%5Bsmall%5D.png": {
     "image/png": "[encoded data removed]"
    }
   },
   "cell_type": "markdown",
   "metadata": {},
   "source": [
    "![Fervent%20Logo%20-%20Video%20Overlay%20%5Bsmall%5D.png](attachment:Fervent%20Logo%20-%20Video%20Overlay%20%5Bsmall%5D.png)\n",
    "# Estimating The Total Risk of a Stock II - Applied\n",
    "In this walkthrough, you'll learn how to estimate the total risk (i.e. standard deviation) of a stock.\n",
    "\n",
    "You'll be working with the same Facebook stock data, stored in a csv file called `fb_price.csv`\n",
    "\n",
    "In our case, the file is stored in a folder called `data`, which in turn is stored in a master folder called `iapm_python`."
   ]
  },
  {
   "cell_type": "code",
   "execution_count": 1,
   "metadata": {
    "collapsed": true
   },
   "outputs": [],
   "source": [
    "# Import package dependencies\n",
    "import pandas as pd\n",
    "import numpy as np"
   ]
  },
  {
   "cell_type": "markdown",
   "metadata": {},
   "source": [
    "<div class=\"alert alert-block alert-info\">\n",
    "<b>Confused by the code below?</b>  \n",
    "\n",
    "Go back to the lecture on Calculating Stock Returns to understand the code in `In[2]` before moving on any further.\n",
    "</div>\n"
   ]
  },
  {
   "cell_type": "code",
   "execution_count": 2,
   "metadata": {
    "collapsed": true
   },
   "outputs": [],
   "source": [
    "df = pd.read_csv(\"../data/fb_price.csv\")\n",
    "df = df[['Date', 'Adj Close']]  # Extract relevant columns only\n",
    "\n",
    "df.rename(\n",
    "    columns={'Date' : 'date', 'Adj Close' : 'price_t'},\n",
    "    inplace=True)  # Rename so it's closer to PEP8 standards\n",
    "\n",
    "df['returns'] = df['price_t'].pct_change(1)  # Calculate returns"
   ]
  },
  {
   "cell_type": "code",
   "execution_count": 3,
   "metadata": {},
   "outputs": [
    {
     "data": {
      "text/html": [
       "<div>\n",
       "<style scoped>\n",
       "    .dataframe tbody tr th:only-of-type {\n",
       "        vertical-align: middle;\n",
       "    }\n",
       "\n",
       "    .dataframe tbody tr th {\n",
       "        vertical-align: top;\n",
       "    }\n",
       "\n",
       "    .dataframe thead th {\n",
       "        text-align: right;\n",
       "    }\n",
       "</style>\n",
       "<table border=\"1\" class=\"dataframe\">\n",
       "  <thead>\n",
       "    <tr style=\"text-align: right;\">\n",
       "      <th></th>\n",
       "      <th>date</th>\n",
       "      <th>price_t</th>\n",
       "      <th>returns</th>\n",
       "    </tr>\n",
       "  </thead>\n",
       "  <tbody>\n",
       "    <tr>\n",
       "      <th>1409</th>\n",
       "      <td>2017-12-22</td>\n",
       "      <td>177.199997</td>\n",
       "      <td>-0.001409</td>\n",
       "    </tr>\n",
       "    <tr>\n",
       "      <th>1410</th>\n",
       "      <td>2017-12-26</td>\n",
       "      <td>175.990005</td>\n",
       "      <td>-0.006828</td>\n",
       "    </tr>\n",
       "    <tr>\n",
       "      <th>1411</th>\n",
       "      <td>2017-12-27</td>\n",
       "      <td>177.619995</td>\n",
       "      <td>0.009262</td>\n",
       "    </tr>\n",
       "    <tr>\n",
       "      <th>1412</th>\n",
       "      <td>2017-12-28</td>\n",
       "      <td>177.919998</td>\n",
       "      <td>0.001689</td>\n",
       "    </tr>\n",
       "    <tr>\n",
       "      <th>1413</th>\n",
       "      <td>2017-12-29</td>\n",
       "      <td>176.460007</td>\n",
       "      <td>-0.008206</td>\n",
       "    </tr>\n",
       "  </tbody>\n",
       "</table>\n",
       "</div>"
      ],
      "text/plain": [
       "            date     price_t   returns\n",
       "1409  2017-12-22  177.199997 -0.001409\n",
       "1410  2017-12-26  175.990005 -0.006828\n",
       "1411  2017-12-27  177.619995  0.009262\n",
       "1412  2017-12-28  177.919998  0.001689\n",
       "1413  2017-12-29  176.460007 -0.008206"
      ]
     },
     "execution_count": 3,
     "metadata": {},
     "output_type": "execute_result"
    }
   ],
   "source": [
    "df.tail()"
   ]
  },
  {
   "cell_type": "markdown",
   "metadata": {},
   "source": [
    "### The standard deviation is calculated as:  \n",
    "\n",
    "$$\\sigma_j = \\sqrt{\\frac{1}{n-1}\\sum_{i=1}^n(r_j - E[r_j])^2}$$\n",
    "\n",
    "Where:  \n",
    "$r_j = $ Return on a stock $j$  \n",
    "$E[r_j] = $ Expected Return on a stock $j$"
   ]
  },
  {
   "cell_type": "markdown",
   "metadata": {},
   "source": [
    "<div class=\"alert alert-block alert-info\">\n",
    "<b>Viewing Documentation on Jupyter Notebooks</b>  \n",
    "\n",
    "Did you know? You can view documentation for every single method or function by using Shift + Tab while inside the function / method.  \n",
    "<br>\n",
    "For example, to view the documentation for NumPy's .var() method:  \n",
    "Type np.var() and press Shift + Tab  \n",
    "\n",
    "You can then click the '+' icon / button to view the full documentation.  \n",
    "<br>\n",
    "Alternatively of course, just google the method to view the official documentation.\n",
    "</div>\n"
   ]
  },
  {
   "cell_type": "code",
   "execution_count": 4,
   "metadata": {
    "collapsed": true
   },
   "outputs": [],
   "source": [
    "# Calculate the Variance of Facebook's returns\n",
    "var_fb = np.var(df['returns'], ddof=1)"
   ]
  },
  {
   "cell_type": "code",
   "execution_count": 5,
   "metadata": {},
   "outputs": [
    {
     "data": {
      "text/plain": [
       "0.0005468017515752956"
      ]
     },
     "execution_count": 5,
     "metadata": {},
     "output_type": "execute_result"
    }
   ],
   "source": [
    "var_fb"
   ]
  },
  {
   "cell_type": "code",
   "execution_count": 6,
   "metadata": {
    "collapsed": true
   },
   "outputs": [],
   "source": [
    "# Calculate the Standard Deviation (Total Risk) of Facebook's returns\n",
    "# Recall that the Standard Deviation is equal to the square root of the variance.\n",
    "sd_fb = np.sqrt(var_fb)"
   ]
  },
  {
   "cell_type": "code",
   "execution_count": 7,
   "metadata": {},
   "outputs": [
    {
     "data": {
      "text/plain": [
       "0.023383792497695826"
      ]
     },
     "execution_count": 7,
     "metadata": {},
     "output_type": "execute_result"
    }
   ],
   "source": [
    "sd_fb"
   ]
  },
  {
   "cell_type": "code",
   "execution_count": 8,
   "metadata": {},
   "outputs": [
    {
     "data": {
      "text/plain": [
       "0.023383792497695826"
      ]
     },
     "execution_count": 8,
     "metadata": {},
     "output_type": "execute_result"
    }
   ],
   "source": [
    "# Alternatively, calculate the Standard Deviation using NumPy's .std() method.\n",
    "np.std(df['returns'], ddof=1)"
   ]
  },
  {
   "cell_type": "markdown",
   "metadata": {},
   "source": [
    "## Estimating the standard deviation 'manually'"
   ]
  },
  {
   "cell_type": "code",
   "execution_count": 9,
   "metadata": {},
   "outputs": [
    {
     "data": {
      "text/html": [
       "<div>\n",
       "<style scoped>\n",
       "    .dataframe tbody tr th:only-of-type {\n",
       "        vertical-align: middle;\n",
       "    }\n",
       "\n",
       "    .dataframe tbody tr th {\n",
       "        vertical-align: top;\n",
       "    }\n",
       "\n",
       "    .dataframe thead th {\n",
       "        text-align: right;\n",
       "    }\n",
       "</style>\n",
       "<table border=\"1\" class=\"dataframe\">\n",
       "  <thead>\n",
       "    <tr style=\"text-align: right;\">\n",
       "      <th></th>\n",
       "      <th>date</th>\n",
       "      <th>price_t</th>\n",
       "      <th>returns</th>\n",
       "    </tr>\n",
       "  </thead>\n",
       "  <tbody>\n",
       "    <tr>\n",
       "      <th>0</th>\n",
       "      <td>2012-05-18</td>\n",
       "      <td>38.230000</td>\n",
       "      <td>NaN</td>\n",
       "    </tr>\n",
       "    <tr>\n",
       "      <th>1</th>\n",
       "      <td>2012-05-21</td>\n",
       "      <td>34.029999</td>\n",
       "      <td>-0.109861</td>\n",
       "    </tr>\n",
       "    <tr>\n",
       "      <th>2</th>\n",
       "      <td>2012-05-22</td>\n",
       "      <td>31.000000</td>\n",
       "      <td>-0.089039</td>\n",
       "    </tr>\n",
       "    <tr>\n",
       "      <th>3</th>\n",
       "      <td>2012-05-23</td>\n",
       "      <td>32.000000</td>\n",
       "      <td>0.032258</td>\n",
       "    </tr>\n",
       "    <tr>\n",
       "      <th>4</th>\n",
       "      <td>2012-05-24</td>\n",
       "      <td>33.029999</td>\n",
       "      <td>0.032187</td>\n",
       "    </tr>\n",
       "  </tbody>\n",
       "</table>\n",
       "</div>"
      ],
      "text/plain": [
       "         date    price_t   returns\n",
       "0  2012-05-18  38.230000       NaN\n",
       "1  2012-05-21  34.029999 -0.109861\n",
       "2  2012-05-22  31.000000 -0.089039\n",
       "3  2012-05-23  32.000000  0.032258\n",
       "4  2012-05-24  33.029999  0.032187"
      ]
     },
     "execution_count": 9,
     "metadata": {},
     "output_type": "execute_result"
    }
   ],
   "source": [
    "df.head()"
   ]
  },
  {
   "cell_type": "code",
   "execution_count": 10,
   "metadata": {
    "collapsed": true
   },
   "outputs": [],
   "source": [
    "# Calculate the deviations for each return observation\n",
    "df['deviations'] = df['returns'] - df['returns'].mean()"
   ]
  },
  {
   "cell_type": "code",
   "execution_count": 11,
   "metadata": {},
   "outputs": [
    {
     "data": {
      "text/html": [
       "<div>\n",
       "<style scoped>\n",
       "    .dataframe tbody tr th:only-of-type {\n",
       "        vertical-align: middle;\n",
       "    }\n",
       "\n",
       "    .dataframe tbody tr th {\n",
       "        vertical-align: top;\n",
       "    }\n",
       "\n",
       "    .dataframe thead th {\n",
       "        text-align: right;\n",
       "    }\n",
       "</style>\n",
       "<table border=\"1\" class=\"dataframe\">\n",
       "  <thead>\n",
       "    <tr style=\"text-align: right;\">\n",
       "      <th></th>\n",
       "      <th>date</th>\n",
       "      <th>price_t</th>\n",
       "      <th>returns</th>\n",
       "      <th>deviations</th>\n",
       "    </tr>\n",
       "  </thead>\n",
       "  <tbody>\n",
       "    <tr>\n",
       "      <th>0</th>\n",
       "      <td>2012-05-18</td>\n",
       "      <td>38.230000</td>\n",
       "      <td>NaN</td>\n",
       "      <td>NaN</td>\n",
       "    </tr>\n",
       "    <tr>\n",
       "      <th>1</th>\n",
       "      <td>2012-05-21</td>\n",
       "      <td>34.029999</td>\n",
       "      <td>-0.109861</td>\n",
       "      <td>-0.111211</td>\n",
       "    </tr>\n",
       "    <tr>\n",
       "      <th>2</th>\n",
       "      <td>2012-05-22</td>\n",
       "      <td>31.000000</td>\n",
       "      <td>-0.089039</td>\n",
       "      <td>-0.090389</td>\n",
       "    </tr>\n",
       "    <tr>\n",
       "      <th>3</th>\n",
       "      <td>2012-05-23</td>\n",
       "      <td>32.000000</td>\n",
       "      <td>0.032258</td>\n",
       "      <td>0.030909</td>\n",
       "    </tr>\n",
       "    <tr>\n",
       "      <th>4</th>\n",
       "      <td>2012-05-24</td>\n",
       "      <td>33.029999</td>\n",
       "      <td>0.032187</td>\n",
       "      <td>0.030838</td>\n",
       "    </tr>\n",
       "  </tbody>\n",
       "</table>\n",
       "</div>"
      ],
      "text/plain": [
       "         date    price_t   returns  deviations\n",
       "0  2012-05-18  38.230000       NaN         NaN\n",
       "1  2012-05-21  34.029999 -0.109861   -0.111211\n",
       "2  2012-05-22  31.000000 -0.089039   -0.090389\n",
       "3  2012-05-23  32.000000  0.032258    0.030909\n",
       "4  2012-05-24  33.029999  0.032187    0.030838"
      ]
     },
     "execution_count": 11,
     "metadata": {},
     "output_type": "execute_result"
    }
   ],
   "source": [
    "df.head()"
   ]
  },
  {
   "cell_type": "code",
   "execution_count": 12,
   "metadata": {
    "collapsed": true
   },
   "outputs": [],
   "source": [
    "# Calculate the squared deviations for each observation\n",
    "df['squared_deviations'] = df['deviations'] ** 2"
   ]
  },
  {
   "cell_type": "code",
   "execution_count": 13,
   "metadata": {},
   "outputs": [
    {
     "data": {
      "text/html": [
       "<div>\n",
       "<style scoped>\n",
       "    .dataframe tbody tr th:only-of-type {\n",
       "        vertical-align: middle;\n",
       "    }\n",
       "\n",
       "    .dataframe tbody tr th {\n",
       "        vertical-align: top;\n",
       "    }\n",
       "\n",
       "    .dataframe thead th {\n",
       "        text-align: right;\n",
       "    }\n",
       "</style>\n",
       "<table border=\"1\" class=\"dataframe\">\n",
       "  <thead>\n",
       "    <tr style=\"text-align: right;\">\n",
       "      <th></th>\n",
       "      <th>date</th>\n",
       "      <th>price_t</th>\n",
       "      <th>returns</th>\n",
       "      <th>deviations</th>\n",
       "      <th>squared_deviations</th>\n",
       "    </tr>\n",
       "  </thead>\n",
       "  <tbody>\n",
       "    <tr>\n",
       "      <th>0</th>\n",
       "      <td>2012-05-18</td>\n",
       "      <td>38.230000</td>\n",
       "      <td>NaN</td>\n",
       "      <td>NaN</td>\n",
       "      <td>NaN</td>\n",
       "    </tr>\n",
       "    <tr>\n",
       "      <th>1</th>\n",
       "      <td>2012-05-21</td>\n",
       "      <td>34.029999</td>\n",
       "      <td>-0.109861</td>\n",
       "      <td>-0.111211</td>\n",
       "      <td>0.012368</td>\n",
       "    </tr>\n",
       "    <tr>\n",
       "      <th>2</th>\n",
       "      <td>2012-05-22</td>\n",
       "      <td>31.000000</td>\n",
       "      <td>-0.089039</td>\n",
       "      <td>-0.090389</td>\n",
       "      <td>0.008170</td>\n",
       "    </tr>\n",
       "    <tr>\n",
       "      <th>3</th>\n",
       "      <td>2012-05-23</td>\n",
       "      <td>32.000000</td>\n",
       "      <td>0.032258</td>\n",
       "      <td>0.030909</td>\n",
       "      <td>0.000955</td>\n",
       "    </tr>\n",
       "    <tr>\n",
       "      <th>4</th>\n",
       "      <td>2012-05-24</td>\n",
       "      <td>33.029999</td>\n",
       "      <td>0.032187</td>\n",
       "      <td>0.030838</td>\n",
       "      <td>0.000951</td>\n",
       "    </tr>\n",
       "  </tbody>\n",
       "</table>\n",
       "</div>"
      ],
      "text/plain": [
       "         date    price_t   returns  deviations  squared_deviations\n",
       "0  2012-05-18  38.230000       NaN         NaN                 NaN\n",
       "1  2012-05-21  34.029999 -0.109861   -0.111211            0.012368\n",
       "2  2012-05-22  31.000000 -0.089039   -0.090389            0.008170\n",
       "3  2012-05-23  32.000000  0.032258    0.030909            0.000955\n",
       "4  2012-05-24  33.029999  0.032187    0.030838            0.000951"
      ]
     },
     "execution_count": 13,
     "metadata": {},
     "output_type": "execute_result"
    }
   ],
   "source": [
    "df.head()"
   ]
  },
  {
   "cell_type": "code",
   "execution_count": 15,
   "metadata": {},
   "outputs": [
    {
     "data": {
      "text/plain": [
       "0.7720840732243174"
      ]
     },
     "execution_count": 15,
     "metadata": {},
     "output_type": "execute_result"
    }
   ],
   "source": [
    "# Sum of squared deviations\n",
    "sum(df['squared_deviations'].dropna())"
   ]
  },
  {
   "cell_type": "code",
   "execution_count": 16,
   "metadata": {},
   "outputs": [
    {
     "data": {
      "text/plain": [
       "0.7720840732243168"
      ]
     },
     "execution_count": 16,
     "metadata": {},
     "output_type": "execute_result"
    }
   ],
   "source": [
    "# Sum of squared deviations\n",
    "# Note: slight difference is due to difference in the treatment of 'floats'.\n",
    "np.sum(df['squared_deviations'])"
   ]
  },
  {
   "cell_type": "code",
   "execution_count": 17,
   "metadata": {
    "collapsed": true
   },
   "outputs": [],
   "source": [
    "sum_squared_deviations = np.sum(df['squared_deviations'])"
   ]
  },
  {
   "cell_type": "code",
   "execution_count": 18,
   "metadata": {
    "collapsed": true
   },
   "outputs": [],
   "source": [
    "# Estimate the variance as the sum of squared deviations divided by N - 1,\n",
    "#     where N = len(df['squared_deviations'].dropna())\n",
    "var_fb_manual = sum_squared_deviations / (len(df['squared_deviations'].dropna()) - 1)"
   ]
  },
  {
   "cell_type": "code",
   "execution_count": 19,
   "metadata": {},
   "outputs": [
    {
     "data": {
      "text/plain": [
       "0.0005468017515752952"
      ]
     },
     "execution_count": 19,
     "metadata": {},
     "output_type": "execute_result"
    }
   ],
   "source": [
    "var_fb_manual"
   ]
  },
  {
   "cell_type": "code",
   "execution_count": 20,
   "metadata": {},
   "outputs": [
    {
     "data": {
      "text/plain": [
       "0.0005468017515752956"
      ]
     },
     "execution_count": 20,
     "metadata": {},
     "output_type": "execute_result"
    }
   ],
   "source": [
    "var_fb"
   ]
  },
  {
   "cell_type": "code",
   "execution_count": 21,
   "metadata": {},
   "outputs": [
    {
     "data": {
      "text/plain": [
       "0.02338379249769582"
      ]
     },
     "execution_count": 21,
     "metadata": {},
     "output_type": "execute_result"
    }
   ],
   "source": [
    "np.sqrt(var_fb_manual)"
   ]
  },
  {
   "cell_type": "code",
   "execution_count": 22,
   "metadata": {},
   "outputs": [
    {
     "data": {
      "text/plain": [
       "0.023383792497695826"
      ]
     },
     "execution_count": 22,
     "metadata": {},
     "output_type": "execute_result"
    }
   ],
   "source": [
    "sd_fb"
   ]
  },
  {
   "cell_type": "code",
   "execution_count": 23,
   "metadata": {
    "collapsed": true
   },
   "outputs": [],
   "source": [
    "# Annualised Standard Deviation\n",
    "sd_fb_annual = sd_fb * np.sqrt(250)"
   ]
  },
  {
   "cell_type": "code",
   "execution_count": 24,
   "metadata": {},
   "outputs": [
    {
     "data": {
      "text/plain": [
       "0.3697302231273823"
      ]
     },
     "execution_count": 24,
     "metadata": {},
     "output_type": "execute_result"
    }
   ],
   "source": [
    "sd_fb_annual"
   ]
  },
  {
   "cell_type": "code",
   "execution_count": 25,
   "metadata": {},
   "outputs": [
    {
     "data": {
      "text/plain": [
       "0.33736546468750195"
      ]
     },
     "execution_count": 25,
     "metadata": {},
     "output_type": "execute_result"
    }
   ],
   "source": [
    "# Annualised Expected Return using the 'crude' method\n",
    "(df['returns'].mean()) * 250"
   ]
  },
  {
   "cell_type": "code",
   "execution_count": 26,
   "metadata": {},
   "outputs": [
    {
     "data": {
      "text/plain": [
       "0.40093243279785296"
      ]
     },
     "execution_count": 26,
     "metadata": {},
     "output_type": "execute_result"
    }
   ],
   "source": [
    "# Annualised Expected Return using the 'sophisticated' method\n",
    "(1 + df['returns'].mean()) ** 250 - 1"
   ]
  }
 ],
 "metadata": {
  "kernelspec": {
   "display_name": "Python 3",
   "language": "python",
   "name": "python3"
  },
  "language_info": {
   "codemirror_mode": {
    "name": "ipython",
    "version": 3
   },
   "file_extension": ".py",
   "mimetype": "text/x-python",
   "name": "python",
   "nbconvert_exporter": "python",
   "pygments_lexer": "ipython3",
   "version": "3.6.8"
  }
 },
 "nbformat": 4,
 "nbformat_minor": 2
}
