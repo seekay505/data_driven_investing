{
 "cells": [
  {
   "cell_type": "markdown",
   "id": "ef735a13-687d-4e92-ab7b-220d412f7583",
   "metadata": {},
   "source": [
    "# Assignment #1: Calculating Stock Returns II (Applied)"
   ]
  },
  {
   "cell_type": "code",
   "execution_count": 33,
   "id": "9d8b54ac-d16e-4038-97c1-ebf613a70da1",
   "metadata": {},
   "outputs": [],
   "source": [
    "import pandas as pd\n",
    "import numpy as np\n",
    "\n",
    "import matplotlib.pyplot as plt\n",
    "import seaborn as sns\n",
    "sns.set()\n",
    "\n",
    "import yfinance as yf"
   ]
  },
  {
   "cell_type": "markdown",
   "id": "fe95bc33-2fc1-4466-830a-a4a6939446e2",
   "metadata": {},
   "source": [
    " \"\"\"Retrieves historical data from Yahoo Finance.\n",
    "\n",
    "    :param instrument: The a stock instrument code to query.\n",
    "    :param start_date: The start date for the query (inclusive).\n",
    "    :param end_date: The end date for the query (inclusive).\n",
    "    :param date_format_string: If `start_date` or `end_date` is not a :class:`DateTime` object,\n",
    "        the object passed in (string) will be parsed to the format string. Default: `%Y-%m-%d`.\n",
    "    :param event: A `DataEvent` constant to determine what event to query for. Default: `DataEvent.HISTORICAL_PRICES`.\n",
    "    :param frequency: A `DataFrequency` constant to determine the interval between records. Default: `DataFrequency.DAILY`.\n",
    "    :param locale: A `Locale` constant to determine which domain to query from. Default: `Locale.US`.\n",
    "\n",
    "    :return: :class:`HistoricalPrices` object\n",
    "    :rtype: `HistoricalPrices`\n",
    "\n",
    "    E.g. https://finance.yahoo.com/quote/AAPL/history\n",
    "\n",
    "    Usage::\n",
    "\n",
    "      >>> from yahoofinance import HistoricalPrices\n",
    "      >>> req = HistoricalPrices('AAPL')\n",
    "      Object<HistoricalPrices>\n",
    "    \"\"\""
   ]
  },
  {
   "cell_type": "code",
   "execution_count": 12,
   "id": "1b10d4a4-7d88-45d7-b388-2fe3487afe67",
   "metadata": {},
   "outputs": [],
   "source": [
    "import datetime"
   ]
  },
  {
   "cell_type": "code",
   "execution_count": 15,
   "id": "4f766c06-1962-4345-ad1d-02005fa379ce",
   "metadata": {},
   "outputs": [
    {
     "data": {
      "text/plain": [
       "'2023-11-12'"
      ]
     },
     "execution_count": 15,
     "metadata": {},
     "output_type": "execute_result"
    }
   ],
   "source": [
    "FORMAT = '%Y-%m-%d'\n",
    "today_str = datetime.datetime.today().strftime(format=FORMAT)\n",
    "today_str"
   ]
  },
  {
   "cell_type": "code",
   "execution_count": 16,
   "id": "eb3ad2eb-5acc-4519-9562-8890fc6ec3e5",
   "metadata": {},
   "outputs": [
    {
     "name": "stdout",
     "output_type": "stream",
     "text": [
      "[*********************100%%**********************]  1 of 1 completed\n"
     ]
    }
   ],
   "source": [
    "# Get the data for the stock IWM\n",
    "start_date = '2001-01-01'\n",
    "end_date = today_str\n",
    "data = yf.download('IWM','2000-01-01', today_str)"
   ]
  },
  {
   "cell_type": "code",
   "execution_count": 18,
   "id": "334b1ee2-027a-4234-9a95-7c99d943d1cd",
   "metadata": {},
   "outputs": [
    {
     "data": {
      "text/html": [
       "<div>\n",
       "<style scoped>\n",
       "    .dataframe tbody tr th:only-of-type {\n",
       "        vertical-align: middle;\n",
       "    }\n",
       "\n",
       "    .dataframe tbody tr th {\n",
       "        vertical-align: top;\n",
       "    }\n",
       "\n",
       "    .dataframe thead th {\n",
       "        text-align: right;\n",
       "    }\n",
       "</style>\n",
       "<table border=\"1\" class=\"dataframe\">\n",
       "  <thead>\n",
       "    <tr style=\"text-align: right;\">\n",
       "      <th></th>\n",
       "      <th>Open</th>\n",
       "      <th>High</th>\n",
       "      <th>Low</th>\n",
       "      <th>Close</th>\n",
       "      <th>Adj Close</th>\n",
       "      <th>Volume</th>\n",
       "    </tr>\n",
       "    <tr>\n",
       "      <th>Date</th>\n",
       "      <th></th>\n",
       "      <th></th>\n",
       "      <th></th>\n",
       "      <th></th>\n",
       "      <th></th>\n",
       "      <th></th>\n",
       "    </tr>\n",
       "  </thead>\n",
       "  <tbody>\n",
       "    <tr>\n",
       "      <th>2000-05-26</th>\n",
       "      <td>45.531250</td>\n",
       "      <td>45.718750</td>\n",
       "      <td>45.312500</td>\n",
       "      <td>45.718750</td>\n",
       "      <td>33.606339</td>\n",
       "      <td>74800</td>\n",
       "    </tr>\n",
       "    <tr>\n",
       "      <th>2000-05-30</th>\n",
       "      <td>46.375000</td>\n",
       "      <td>47.406250</td>\n",
       "      <td>46.375000</td>\n",
       "      <td>47.406250</td>\n",
       "      <td>34.846775</td>\n",
       "      <td>57600</td>\n",
       "    </tr>\n",
       "    <tr>\n",
       "      <th>2000-05-31</th>\n",
       "      <td>47.562500</td>\n",
       "      <td>48.187500</td>\n",
       "      <td>47.562500</td>\n",
       "      <td>47.578125</td>\n",
       "      <td>34.973118</td>\n",
       "      <td>36000</td>\n",
       "    </tr>\n",
       "    <tr>\n",
       "      <th>2000-06-01</th>\n",
       "      <td>48.554688</td>\n",
       "      <td>48.656250</td>\n",
       "      <td>48.554688</td>\n",
       "      <td>48.656250</td>\n",
       "      <td>35.765633</td>\n",
       "      <td>7000</td>\n",
       "    </tr>\n",
       "    <tr>\n",
       "      <th>2000-06-02</th>\n",
       "      <td>50.859375</td>\n",
       "      <td>51.187500</td>\n",
       "      <td>50.859375</td>\n",
       "      <td>51.187500</td>\n",
       "      <td>37.626259</td>\n",
       "      <td>29400</td>\n",
       "    </tr>\n",
       "    <tr>\n",
       "      <th>...</th>\n",
       "      <td>...</td>\n",
       "      <td>...</td>\n",
       "      <td>...</td>\n",
       "      <td>...</td>\n",
       "      <td>...</td>\n",
       "      <td>...</td>\n",
       "    </tr>\n",
       "    <tr>\n",
       "      <th>2023-11-06</th>\n",
       "      <td>174.490005</td>\n",
       "      <td>174.779999</td>\n",
       "      <td>171.389999</td>\n",
       "      <td>172.309998</td>\n",
       "      <td>172.309998</td>\n",
       "      <td>35294400</td>\n",
       "    </tr>\n",
       "    <tr>\n",
       "      <th>2023-11-07</th>\n",
       "      <td>171.559998</td>\n",
       "      <td>172.509995</td>\n",
       "      <td>170.570007</td>\n",
       "      <td>171.699997</td>\n",
       "      <td>171.699997</td>\n",
       "      <td>31168900</td>\n",
       "    </tr>\n",
       "    <tr>\n",
       "      <th>2023-11-08</th>\n",
       "      <td>171.699997</td>\n",
       "      <td>172.130005</td>\n",
       "      <td>169.300003</td>\n",
       "      <td>169.869995</td>\n",
       "      <td>169.869995</td>\n",
       "      <td>44938600</td>\n",
       "    </tr>\n",
       "    <tr>\n",
       "      <th>2023-11-09</th>\n",
       "      <td>171.029999</td>\n",
       "      <td>171.029999</td>\n",
       "      <td>166.979996</td>\n",
       "      <td>167.240005</td>\n",
       "      <td>167.240005</td>\n",
       "      <td>38577400</td>\n",
       "    </tr>\n",
       "    <tr>\n",
       "      <th>2023-11-10</th>\n",
       "      <td>168.220001</td>\n",
       "      <td>169.710007</td>\n",
       "      <td>166.789993</td>\n",
       "      <td>169.110001</td>\n",
       "      <td>169.110001</td>\n",
       "      <td>36121300</td>\n",
       "    </tr>\n",
       "  </tbody>\n",
       "</table>\n",
       "<p>5903 rows × 6 columns</p>\n",
       "</div>"
      ],
      "text/plain": [
       "                  Open        High         Low       Close   Adj Close  \\\n",
       "Date                                                                     \n",
       "2000-05-26   45.531250   45.718750   45.312500   45.718750   33.606339   \n",
       "2000-05-30   46.375000   47.406250   46.375000   47.406250   34.846775   \n",
       "2000-05-31   47.562500   48.187500   47.562500   47.578125   34.973118   \n",
       "2000-06-01   48.554688   48.656250   48.554688   48.656250   35.765633   \n",
       "2000-06-02   50.859375   51.187500   50.859375   51.187500   37.626259   \n",
       "...                ...         ...         ...         ...         ...   \n",
       "2023-11-06  174.490005  174.779999  171.389999  172.309998  172.309998   \n",
       "2023-11-07  171.559998  172.509995  170.570007  171.699997  171.699997   \n",
       "2023-11-08  171.699997  172.130005  169.300003  169.869995  169.869995   \n",
       "2023-11-09  171.029999  171.029999  166.979996  167.240005  167.240005   \n",
       "2023-11-10  168.220001  169.710007  166.789993  169.110001  169.110001   \n",
       "\n",
       "              Volume  \n",
       "Date                  \n",
       "2000-05-26     74800  \n",
       "2000-05-30     57600  \n",
       "2000-05-31     36000  \n",
       "2000-06-01      7000  \n",
       "2000-06-02     29400  \n",
       "...              ...  \n",
       "2023-11-06  35294400  \n",
       "2023-11-07  31168900  \n",
       "2023-11-08  44938600  \n",
       "2023-11-09  38577400  \n",
       "2023-11-10  36121300  \n",
       "\n",
       "[5903 rows x 6 columns]"
      ]
     },
     "execution_count": 18,
     "metadata": {},
     "output_type": "execute_result"
    }
   ],
   "source": [
    "data"
   ]
  },
  {
   "cell_type": "markdown",
   "id": "1b91087b-f4b8-4044-87c8-38021666d295",
   "metadata": {},
   "source": [
    "### Problem #1: Compute daily returns for the stock for the entire sample duration."
   ]
  },
  {
   "cell_type": "code",
   "execution_count": 28,
   "id": "47bcced4-119f-41d1-9fcd-8202823e4d2d",
   "metadata": {},
   "outputs": [
    {
     "data": {
      "text/html": [
       "<div>\n",
       "<style scoped>\n",
       "    .dataframe tbody tr th:only-of-type {\n",
       "        vertical-align: middle;\n",
       "    }\n",
       "\n",
       "    .dataframe tbody tr th {\n",
       "        vertical-align: top;\n",
       "    }\n",
       "\n",
       "    .dataframe thead th {\n",
       "        text-align: right;\n",
       "    }\n",
       "</style>\n",
       "<table border=\"1\" class=\"dataframe\">\n",
       "  <thead>\n",
       "    <tr style=\"text-align: right;\">\n",
       "      <th></th>\n",
       "      <th>price_t</th>\n",
       "    </tr>\n",
       "    <tr>\n",
       "      <th>Date</th>\n",
       "      <th></th>\n",
       "    </tr>\n",
       "  </thead>\n",
       "  <tbody>\n",
       "    <tr>\n",
       "      <th>2000-05-26</th>\n",
       "      <td>45.718750</td>\n",
       "    </tr>\n",
       "    <tr>\n",
       "      <th>2000-05-30</th>\n",
       "      <td>47.406250</td>\n",
       "    </tr>\n",
       "    <tr>\n",
       "      <th>2000-05-31</th>\n",
       "      <td>47.578125</td>\n",
       "    </tr>\n",
       "    <tr>\n",
       "      <th>2000-06-01</th>\n",
       "      <td>48.656250</td>\n",
       "    </tr>\n",
       "    <tr>\n",
       "      <th>2000-06-02</th>\n",
       "      <td>51.187500</td>\n",
       "    </tr>\n",
       "  </tbody>\n",
       "</table>\n",
       "</div>"
      ],
      "text/plain": [
       "              price_t\n",
       "Date                 \n",
       "2000-05-26  45.718750\n",
       "2000-05-30  47.406250\n",
       "2000-05-31  47.578125\n",
       "2000-06-01  48.656250\n",
       "2000-06-02  51.187500"
      ]
     },
     "execution_count": 28,
     "metadata": {},
     "output_type": "execute_result"
    }
   ],
   "source": [
    "df = pd.DataFrame(data['Close'])\n",
    "df = df.rename(columns={'Close': 'price_t'})\n",
    "df.head()"
   ]
  },
  {
   "cell_type": "code",
   "execution_count": 29,
   "id": "b28e08fe-22ff-4026-94d8-32d27c42727b",
   "metadata": {},
   "outputs": [
    {
     "data": {
      "text/html": [
       "<div>\n",
       "<style scoped>\n",
       "    .dataframe tbody tr th:only-of-type {\n",
       "        vertical-align: middle;\n",
       "    }\n",
       "\n",
       "    .dataframe tbody tr th {\n",
       "        vertical-align: top;\n",
       "    }\n",
       "\n",
       "    .dataframe thead th {\n",
       "        text-align: right;\n",
       "    }\n",
       "</style>\n",
       "<table border=\"1\" class=\"dataframe\">\n",
       "  <thead>\n",
       "    <tr style=\"text-align: right;\">\n",
       "      <th></th>\n",
       "      <th>price_t</th>\n",
       "      <th>price_t-1</th>\n",
       "    </tr>\n",
       "    <tr>\n",
       "      <th>Date</th>\n",
       "      <th></th>\n",
       "      <th></th>\n",
       "    </tr>\n",
       "  </thead>\n",
       "  <tbody>\n",
       "    <tr>\n",
       "      <th>2000-05-26</th>\n",
       "      <td>45.718750</td>\n",
       "      <td>NaN</td>\n",
       "    </tr>\n",
       "    <tr>\n",
       "      <th>2000-05-30</th>\n",
       "      <td>47.406250</td>\n",
       "      <td>45.718750</td>\n",
       "    </tr>\n",
       "    <tr>\n",
       "      <th>2000-05-31</th>\n",
       "      <td>47.578125</td>\n",
       "      <td>47.406250</td>\n",
       "    </tr>\n",
       "    <tr>\n",
       "      <th>2000-06-01</th>\n",
       "      <td>48.656250</td>\n",
       "      <td>47.578125</td>\n",
       "    </tr>\n",
       "    <tr>\n",
       "      <th>2000-06-02</th>\n",
       "      <td>51.187500</td>\n",
       "      <td>48.656250</td>\n",
       "    </tr>\n",
       "  </tbody>\n",
       "</table>\n",
       "</div>"
      ],
      "text/plain": [
       "              price_t  price_t-1\n",
       "Date                            \n",
       "2000-05-26  45.718750        NaN\n",
       "2000-05-30  47.406250  45.718750\n",
       "2000-05-31  47.578125  47.406250\n",
       "2000-06-01  48.656250  47.578125\n",
       "2000-06-02  51.187500  48.656250"
      ]
     },
     "execution_count": 29,
     "metadata": {},
     "output_type": "execute_result"
    }
   ],
   "source": [
    "# calculate return\n",
    "# get prev day / today - 1\n",
    "df['price_t-1'] = df['price_t'].shift(1)\n",
    "df.head()"
   ]
  },
  {
   "cell_type": "code",
   "execution_count": 36,
   "id": "b57d61a8-a02c-4a9e-b50c-c6f2f8950191",
   "metadata": {},
   "outputs": [
    {
     "data": {
      "text/html": [
       "<div>\n",
       "<style scoped>\n",
       "    .dataframe tbody tr th:only-of-type {\n",
       "        vertical-align: middle;\n",
       "    }\n",
       "\n",
       "    .dataframe tbody tr th {\n",
       "        vertical-align: top;\n",
       "    }\n",
       "\n",
       "    .dataframe thead th {\n",
       "        text-align: right;\n",
       "    }\n",
       "</style>\n",
       "<table border=\"1\" class=\"dataframe\">\n",
       "  <thead>\n",
       "    <tr style=\"text-align: right;\">\n",
       "      <th></th>\n",
       "      <th>price_t</th>\n",
       "      <th>price_t-1</th>\n",
       "      <th>returns_manual</th>\n",
       "      <th>returns_pct_change_method</th>\n",
       "    </tr>\n",
       "    <tr>\n",
       "      <th>Date</th>\n",
       "      <th></th>\n",
       "      <th></th>\n",
       "      <th></th>\n",
       "      <th></th>\n",
       "    </tr>\n",
       "  </thead>\n",
       "  <tbody>\n",
       "    <tr>\n",
       "      <th>2000-05-26</th>\n",
       "      <td>45.718750</td>\n",
       "      <td>NaN</td>\n",
       "      <td>NaN</td>\n",
       "      <td>NaN</td>\n",
       "    </tr>\n",
       "    <tr>\n",
       "      <th>2000-05-30</th>\n",
       "      <td>47.406250</td>\n",
       "      <td>45.718750</td>\n",
       "      <td>0.036910</td>\n",
       "      <td>0.036910</td>\n",
       "    </tr>\n",
       "    <tr>\n",
       "      <th>2000-05-31</th>\n",
       "      <td>47.578125</td>\n",
       "      <td>47.406250</td>\n",
       "      <td>0.003626</td>\n",
       "      <td>0.003626</td>\n",
       "    </tr>\n",
       "    <tr>\n",
       "      <th>2000-06-01</th>\n",
       "      <td>48.656250</td>\n",
       "      <td>47.578125</td>\n",
       "      <td>0.022660</td>\n",
       "      <td>0.022660</td>\n",
       "    </tr>\n",
       "    <tr>\n",
       "      <th>2000-06-02</th>\n",
       "      <td>51.187500</td>\n",
       "      <td>48.656250</td>\n",
       "      <td>0.052023</td>\n",
       "      <td>0.052023</td>\n",
       "    </tr>\n",
       "  </tbody>\n",
       "</table>\n",
       "</div>"
      ],
      "text/plain": [
       "              price_t  price_t-1  returns_manual  returns_pct_change_method\n",
       "Date                                                                       \n",
       "2000-05-26  45.718750        NaN             NaN                        NaN\n",
       "2000-05-30  47.406250  45.718750        0.036910                   0.036910\n",
       "2000-05-31  47.578125  47.406250        0.003626                   0.003626\n",
       "2000-06-01  48.656250  47.578125        0.022660                   0.022660\n",
       "2000-06-02  51.187500  48.656250        0.052023                   0.052023"
      ]
     },
     "execution_count": 36,
     "metadata": {},
     "output_type": "execute_result"
    }
   ],
   "source": [
    "df['returns_manual'] = ( df['price_t'] / df['price_t-1'] ) - 1\n",
    "df.head()"
   ]
  },
  {
   "cell_type": "code",
   "execution_count": 35,
   "id": "39ac971d-6be0-4f26-b1c7-9a18c7ce4010",
   "metadata": {},
   "outputs": [
    {
     "data": {
      "text/html": [
       "<div>\n",
       "<style scoped>\n",
       "    .dataframe tbody tr th:only-of-type {\n",
       "        vertical-align: middle;\n",
       "    }\n",
       "\n",
       "    .dataframe tbody tr th {\n",
       "        vertical-align: top;\n",
       "    }\n",
       "\n",
       "    .dataframe thead th {\n",
       "        text-align: right;\n",
       "    }\n",
       "</style>\n",
       "<table border=\"1\" class=\"dataframe\">\n",
       "  <thead>\n",
       "    <tr style=\"text-align: right;\">\n",
       "      <th></th>\n",
       "      <th>price_t</th>\n",
       "      <th>price_t-1</th>\n",
       "      <th>returns_manual</th>\n",
       "      <th>returns_pct_change_method</th>\n",
       "    </tr>\n",
       "    <tr>\n",
       "      <th>Date</th>\n",
       "      <th></th>\n",
       "      <th></th>\n",
       "      <th></th>\n",
       "      <th></th>\n",
       "    </tr>\n",
       "  </thead>\n",
       "  <tbody>\n",
       "    <tr>\n",
       "      <th>2000-05-26</th>\n",
       "      <td>45.718750</td>\n",
       "      <td>NaN</td>\n",
       "      <td>NaN</td>\n",
       "      <td>NaN</td>\n",
       "    </tr>\n",
       "    <tr>\n",
       "      <th>2000-05-30</th>\n",
       "      <td>47.406250</td>\n",
       "      <td>45.718750</td>\n",
       "      <td>-0.035597</td>\n",
       "      <td>0.036910</td>\n",
       "    </tr>\n",
       "    <tr>\n",
       "      <th>2000-05-31</th>\n",
       "      <td>47.578125</td>\n",
       "      <td>47.406250</td>\n",
       "      <td>-0.003612</td>\n",
       "      <td>0.003626</td>\n",
       "    </tr>\n",
       "    <tr>\n",
       "      <th>2000-06-01</th>\n",
       "      <td>48.656250</td>\n",
       "      <td>47.578125</td>\n",
       "      <td>-0.022158</td>\n",
       "      <td>0.022660</td>\n",
       "    </tr>\n",
       "    <tr>\n",
       "      <th>2000-06-02</th>\n",
       "      <td>51.187500</td>\n",
       "      <td>48.656250</td>\n",
       "      <td>-0.049451</td>\n",
       "      <td>0.052023</td>\n",
       "    </tr>\n",
       "  </tbody>\n",
       "</table>\n",
       "</div>"
      ],
      "text/plain": [
       "              price_t  price_t-1  returns_manual  returns_pct_change_method\n",
       "Date                                                                       \n",
       "2000-05-26  45.718750        NaN             NaN                        NaN\n",
       "2000-05-30  47.406250  45.718750       -0.035597                   0.036910\n",
       "2000-05-31  47.578125  47.406250       -0.003612                   0.003626\n",
       "2000-06-01  48.656250  47.578125       -0.022158                   0.022660\n",
       "2000-06-02  51.187500  48.656250       -0.049451                   0.052023"
      ]
     },
     "execution_count": 35,
     "metadata": {},
     "output_type": "execute_result"
    }
   ],
   "source": [
    "df['returns_pct_change_method'] = df['price_t'].pct_change()\n",
    "df.head()"
   ]
  },
  {
   "cell_type": "code",
   "execution_count": 38,
   "id": "e516c038-51cf-4105-a7d8-0c853215cb57",
   "metadata": {},
   "outputs": [
    {
     "data": {
      "text/html": [
       "<div>\n",
       "<style scoped>\n",
       "    .dataframe tbody tr th:only-of-type {\n",
       "        vertical-align: middle;\n",
       "    }\n",
       "\n",
       "    .dataframe tbody tr th {\n",
       "        vertical-align: top;\n",
       "    }\n",
       "\n",
       "    .dataframe thead th {\n",
       "        text-align: right;\n",
       "    }\n",
       "</style>\n",
       "<table border=\"1\" class=\"dataframe\">\n",
       "  <thead>\n",
       "    <tr style=\"text-align: right;\">\n",
       "      <th></th>\n",
       "      <th>price_t</th>\n",
       "      <th>price_t-1</th>\n",
       "      <th>returns_manual</th>\n",
       "      <th>returns_pct_change_method</th>\n",
       "      <th>returns</th>\n",
       "    </tr>\n",
       "    <tr>\n",
       "      <th>Date</th>\n",
       "      <th></th>\n",
       "      <th></th>\n",
       "      <th></th>\n",
       "      <th></th>\n",
       "      <th></th>\n",
       "    </tr>\n",
       "  </thead>\n",
       "  <tbody>\n",
       "    <tr>\n",
       "      <th>2000-05-26</th>\n",
       "      <td>45.718750</td>\n",
       "      <td>NaN</td>\n",
       "      <td>NaN</td>\n",
       "      <td>NaN</td>\n",
       "      <td>NaN</td>\n",
       "    </tr>\n",
       "    <tr>\n",
       "      <th>2000-05-30</th>\n",
       "      <td>47.406250</td>\n",
       "      <td>45.718750</td>\n",
       "      <td>0.036910</td>\n",
       "      <td>0.036910</td>\n",
       "      <td>0.036910</td>\n",
       "    </tr>\n",
       "    <tr>\n",
       "      <th>2000-05-31</th>\n",
       "      <td>47.578125</td>\n",
       "      <td>47.406250</td>\n",
       "      <td>0.003626</td>\n",
       "      <td>0.003626</td>\n",
       "      <td>0.003626</td>\n",
       "    </tr>\n",
       "    <tr>\n",
       "      <th>2000-06-01</th>\n",
       "      <td>48.656250</td>\n",
       "      <td>47.578125</td>\n",
       "      <td>0.022660</td>\n",
       "      <td>0.022660</td>\n",
       "      <td>0.022660</td>\n",
       "    </tr>\n",
       "    <tr>\n",
       "      <th>2000-06-02</th>\n",
       "      <td>51.187500</td>\n",
       "      <td>48.656250</td>\n",
       "      <td>0.052023</td>\n",
       "      <td>0.052023</td>\n",
       "      <td>0.052023</td>\n",
       "    </tr>\n",
       "  </tbody>\n",
       "</table>\n",
       "</div>"
      ],
      "text/plain": [
       "              price_t  price_t-1  returns_manual  returns_pct_change_method  \\\n",
       "Date                                                                          \n",
       "2000-05-26  45.718750        NaN             NaN                        NaN   \n",
       "2000-05-30  47.406250  45.718750        0.036910                   0.036910   \n",
       "2000-05-31  47.578125  47.406250        0.003626                   0.003626   \n",
       "2000-06-01  48.656250  47.578125        0.022660                   0.022660   \n",
       "2000-06-02  51.187500  48.656250        0.052023                   0.052023   \n",
       "\n",
       "             returns  \n",
       "Date                  \n",
       "2000-05-26       NaN  \n",
       "2000-05-30  0.036910  \n",
       "2000-05-31  0.003626  \n",
       "2000-06-01  0.022660  \n",
       "2000-06-02  0.052023  "
      ]
     },
     "execution_count": 38,
     "metadata": {},
     "output_type": "execute_result"
    }
   ],
   "source": [
    "df['returns'] = (df['price_t'] / df['price_t'].shift(1)) - 1\n",
    "df.head()"
   ]
  },
  {
   "cell_type": "markdown",
   "id": "f67b2852-f574-45a7-93a9-8c9c77a3eef3",
   "metadata": {},
   "source": [
    "### Problem #2: Plot the daily price of the stock and its daily returns in a line chart / graph."
   ]
  },
  {
   "cell_type": "code",
   "execution_count": 40,
   "id": "7f07447d-f5ff-44a1-a841-d0ec365db970",
   "metadata": {},
   "outputs": [
    {
     "data": {
      "text/plain": [
       "<Axes: xlabel='Date'>"
      ]
     },
     "execution_count": 40,
     "metadata": {},
     "output_type": "execute_result"
    },
    {
     "data": {
      "image/png": "[encoded data removed]",
      "text/plain": [
       "<Figure size 1200x800 with 1 Axes>"
      ]
     },
     "metadata": {},
     "output_type": "display_data"
    }
   ],
   "source": [
    "df['price_t'].plot(figsize=(12, 8))"
   ]
  },
  {
   "cell_type": "code",
   "execution_count": 41,
   "id": "d232cd6c-7088-44ff-b660-36399aa2c45e",
   "metadata": {},
   "outputs": [
    {
     "data": {
      "text/plain": [
       "<Axes: xlabel='Date'>"
      ]
     },
     "execution_count": 41,
     "metadata": {},
     "output_type": "execute_result"
    },
    {
     "data": {
      "image/png": "[encoded data removed]",
      "text/plain": [
       "<Figure size 1200x800 with 1 Axes>"
      ]
     },
     "metadata": {},
     "output_type": "display_data"
    }
   ],
   "source": [
    "df['returns'].plot(figsize=(12,8))"
   ]
  },
  {
   "cell_type": "markdown",
   "id": "bc530a2a-43c1-42c1-b99b-645e8303e4bc",
   "metadata": {},
   "source": [
    "# Assignment #2: Expected Returns using Average (Mean) Method"
   ]
  },
  {
   "cell_type": "code",
   "execution_count": 44,
   "id": "7a2814ad-4e9c-41fb-8ab7-109e120aff96",
   "metadata": {},
   "outputs": [
    {
     "data": {
      "text/html": [
       "<div>\n",
       "<style scoped>\n",
       "    .dataframe tbody tr th:only-of-type {\n",
       "        vertical-align: middle;\n",
       "    }\n",
       "\n",
       "    .dataframe tbody tr th {\n",
       "        vertical-align: top;\n",
       "    }\n",
       "\n",
       "    .dataframe thead th {\n",
       "        text-align: right;\n",
       "    }\n",
       "</style>\n",
       "<table border=\"1\" class=\"dataframe\">\n",
       "  <thead>\n",
       "    <tr style=\"text-align: right;\">\n",
       "      <th></th>\n",
       "      <th>price_t</th>\n",
       "      <th>price_t-1</th>\n",
       "      <th>returns_manual</th>\n",
       "      <th>returns_pct_change_method</th>\n",
       "      <th>returns</th>\n",
       "    </tr>\n",
       "    <tr>\n",
       "      <th>Date</th>\n",
       "      <th></th>\n",
       "      <th></th>\n",
       "      <th></th>\n",
       "      <th></th>\n",
       "      <th></th>\n",
       "    </tr>\n",
       "  </thead>\n",
       "  <tbody>\n",
       "    <tr>\n",
       "      <th>2000-05-26</th>\n",
       "      <td>45.718750</td>\n",
       "      <td>NaN</td>\n",
       "      <td>NaN</td>\n",
       "      <td>NaN</td>\n",
       "      <td>NaN</td>\n",
       "    </tr>\n",
       "    <tr>\n",
       "      <th>2000-05-30</th>\n",
       "      <td>47.406250</td>\n",
       "      <td>45.718750</td>\n",
       "      <td>0.036910</td>\n",
       "      <td>0.036910</td>\n",
       "      <td>0.036910</td>\n",
       "    </tr>\n",
       "    <tr>\n",
       "      <th>2000-05-31</th>\n",
       "      <td>47.578125</td>\n",
       "      <td>47.406250</td>\n",
       "      <td>0.003626</td>\n",
       "      <td>0.003626</td>\n",
       "      <td>0.003626</td>\n",
       "    </tr>\n",
       "    <tr>\n",
       "      <th>2000-06-01</th>\n",
       "      <td>48.656250</td>\n",
       "      <td>47.578125</td>\n",
       "      <td>0.022660</td>\n",
       "      <td>0.022660</td>\n",
       "      <td>0.022660</td>\n",
       "    </tr>\n",
       "    <tr>\n",
       "      <th>2000-06-02</th>\n",
       "      <td>51.187500</td>\n",
       "      <td>48.656250</td>\n",
       "      <td>0.052023</td>\n",
       "      <td>0.052023</td>\n",
       "      <td>0.052023</td>\n",
       "    </tr>\n",
       "  </tbody>\n",
       "</table>\n",
       "</div>"
      ],
      "text/plain": [
       "              price_t  price_t-1  returns_manual  returns_pct_change_method  \\\n",
       "Date                                                                          \n",
       "2000-05-26  45.718750        NaN             NaN                        NaN   \n",
       "2000-05-30  47.406250  45.718750        0.036910                   0.036910   \n",
       "2000-05-31  47.578125  47.406250        0.003626                   0.003626   \n",
       "2000-06-01  48.656250  47.578125        0.022660                   0.022660   \n",
       "2000-06-02  51.187500  48.656250        0.052023                   0.052023   \n",
       "\n",
       "             returns  \n",
       "Date                  \n",
       "2000-05-26       NaN  \n",
       "2000-05-30  0.036910  \n",
       "2000-05-31  0.003626  \n",
       "2000-06-01  0.022660  \n",
       "2000-06-02  0.052023  "
      ]
     },
     "execution_count": 44,
     "metadata": {},
     "output_type": "execute_result"
    }
   ],
   "source": [
    "df.head()"
   ]
  },
  {
   "cell_type": "markdown",
   "id": "81963cd4-f0af-4361-bbd7-32fbc90e60a9",
   "metadata": {},
   "source": [
    "### Problem 1: Calculate the annual expected return, conditional on weekly returns data."
   ]
  },
  {
   "cell_type": "code",
   "execution_count": 56,
   "id": "69ab1378-90ab-42ce-b526-022eb95797e7",
   "metadata": {},
   "outputs": [
    {
     "data": {
      "text/html": [
       "<div>\n",
       "<style scoped>\n",
       "    .dataframe tbody tr th:only-of-type {\n",
       "        vertical-align: middle;\n",
       "    }\n",
       "\n",
       "    .dataframe tbody tr th {\n",
       "        vertical-align: top;\n",
       "    }\n",
       "\n",
       "    .dataframe thead th {\n",
       "        text-align: right;\n",
       "    }\n",
       "</style>\n",
       "<table border=\"1\" class=\"dataframe\">\n",
       "  <thead>\n",
       "    <tr style=\"text-align: right;\">\n",
       "      <th></th>\n",
       "      <th>price_t</th>\n",
       "      <th>price_t-1</th>\n",
       "      <th>returns_manual</th>\n",
       "      <th>returns_pct_change_method</th>\n",
       "      <th>returns</th>\n",
       "    </tr>\n",
       "    <tr>\n",
       "      <th>Date</th>\n",
       "      <th></th>\n",
       "      <th></th>\n",
       "      <th></th>\n",
       "      <th></th>\n",
       "      <th></th>\n",
       "    </tr>\n",
       "  </thead>\n",
       "  <tbody>\n",
       "    <tr>\n",
       "      <th>2000-05-26</th>\n",
       "      <td>45.718750</td>\n",
       "      <td>NaN</td>\n",
       "      <td>NaN</td>\n",
       "      <td>NaN</td>\n",
       "      <td>NaN</td>\n",
       "    </tr>\n",
       "    <tr>\n",
       "      <th>2000-05-30</th>\n",
       "      <td>47.406250</td>\n",
       "      <td>45.718750</td>\n",
       "      <td>0.036910</td>\n",
       "      <td>0.036910</td>\n",
       "      <td>0.036910</td>\n",
       "    </tr>\n",
       "    <tr>\n",
       "      <th>2000-05-31</th>\n",
       "      <td>47.578125</td>\n",
       "      <td>47.406250</td>\n",
       "      <td>0.003626</td>\n",
       "      <td>0.003626</td>\n",
       "      <td>0.003626</td>\n",
       "    </tr>\n",
       "    <tr>\n",
       "      <th>2000-06-01</th>\n",
       "      <td>48.656250</td>\n",
       "      <td>47.578125</td>\n",
       "      <td>0.022660</td>\n",
       "      <td>0.022660</td>\n",
       "      <td>0.022660</td>\n",
       "    </tr>\n",
       "    <tr>\n",
       "      <th>2000-06-02</th>\n",
       "      <td>51.187500</td>\n",
       "      <td>48.656250</td>\n",
       "      <td>0.052023</td>\n",
       "      <td>0.052023</td>\n",
       "      <td>0.052023</td>\n",
       "    </tr>\n",
       "  </tbody>\n",
       "</table>\n",
       "</div>"
      ],
      "text/plain": [
       "              price_t  price_t-1  returns_manual  returns_pct_change_method  \\\n",
       "Date                                                                          \n",
       "2000-05-26  45.718750        NaN             NaN                        NaN   \n",
       "2000-05-30  47.406250  45.718750        0.036910                   0.036910   \n",
       "2000-05-31  47.578125  47.406250        0.003626                   0.003626   \n",
       "2000-06-01  48.656250  47.578125        0.022660                   0.022660   \n",
       "2000-06-02  51.187500  48.656250        0.052023                   0.052023   \n",
       "\n",
       "             returns  \n",
       "Date                  \n",
       "2000-05-26       NaN  \n",
       "2000-05-30  0.036910  \n",
       "2000-05-31  0.003626  \n",
       "2000-06-01  0.022660  \n",
       "2000-06-02  0.052023  "
      ]
     },
     "execution_count": 56,
     "metadata": {},
     "output_type": "execute_result"
    }
   ],
   "source": [
    "df.head()"
   ]
  },
  {
   "cell_type": "code",
   "execution_count": 46,
   "id": "a25bfa5c-33b7-4d5f-9991-85535564811a",
   "metadata": {},
   "outputs": [
    {
     "data": {
      "text/plain": [
       "0.00033780754677494306"
      ]
     },
     "execution_count": 46,
     "metadata": {},
     "output_type": "execute_result"
    }
   ],
   "source": [
    "iwm_mean = df['returns'].mean()\n",
    "iwm_mean"
   ]
  },
  {
   "cell_type": "code",
   "execution_count": 51,
   "id": "c41574df-91b3-419d-9a71-20a619e5a516",
   "metadata": {},
   "outputs": [
    {
     "data": {
      "text/plain": [
       "'0.03%'"
      ]
     },
     "execution_count": 51,
     "metadata": {},
     "output_type": "execute_result"
    }
   ],
   "source": [
    "f'{iwm_mean * 100:.2f}%'"
   ]
  },
  {
   "cell_type": "code",
   "execution_count": 53,
   "id": "42e23760-6a75-4aea-a96d-1cb5b078ac8b",
   "metadata": {},
   "outputs": [
    {
     "data": {
      "text/plain": [
       "0.08512750178728565"
      ]
     },
     "execution_count": 53,
     "metadata": {},
     "output_type": "execute_result"
    }
   ],
   "source": [
    "# annual expected return\n",
    "# crude\n",
    "annualized_return_crude = iwm_mean * 252\n",
    "annualized_return_crude"
   ]
  },
  {
   "cell_type": "code",
   "execution_count": 54,
   "id": "5f407d8b-5624-4556-936a-7c33c4e78eff",
   "metadata": {},
   "outputs": [
    {
     "data": {
      "text/plain": [
       "0.0888402365996408"
      ]
     },
     "execution_count": 54,
     "metadata": {},
     "output_type": "execute_result"
    }
   ],
   "source": [
    "annualized_return_soph = (1 + iwm_mean) ** 252 - 1\n",
    "annualized_return_soph"
   ]
  },
  {
   "cell_type": "code",
   "execution_count": 59,
   "id": "09cda06c-2d8a-4b35-8165-60753bebbed0",
   "metadata": {},
   "outputs": [
    {
     "data": {
      "text/html": [
       "<div>\n",
       "<style scoped>\n",
       "    .dataframe tbody tr th:only-of-type {\n",
       "        vertical-align: middle;\n",
       "    }\n",
       "\n",
       "    .dataframe tbody tr th {\n",
       "        vertical-align: top;\n",
       "    }\n",
       "\n",
       "    .dataframe thead th {\n",
       "        text-align: right;\n",
       "    }\n",
       "</style>\n",
       "<table border=\"1\" class=\"dataframe\">\n",
       "  <thead>\n",
       "    <tr style=\"text-align: right;\">\n",
       "      <th></th>\n",
       "      <th>price_t</th>\n",
       "      <th>price_t-1</th>\n",
       "      <th>returns_manual</th>\n",
       "      <th>returns_pct_change_method</th>\n",
       "      <th>returns</th>\n",
       "      <th>weekly_returns</th>\n",
       "    </tr>\n",
       "    <tr>\n",
       "      <th>Date</th>\n",
       "      <th></th>\n",
       "      <th></th>\n",
       "      <th></th>\n",
       "      <th></th>\n",
       "      <th></th>\n",
       "      <th></th>\n",
       "    </tr>\n",
       "  </thead>\n",
       "  <tbody>\n",
       "    <tr>\n",
       "      <th>2000-05-26</th>\n",
       "      <td>45.718750</td>\n",
       "      <td>NaN</td>\n",
       "      <td>NaN</td>\n",
       "      <td>NaN</td>\n",
       "      <td>NaN</td>\n",
       "      <td>NaN</td>\n",
       "    </tr>\n",
       "    <tr>\n",
       "      <th>2000-05-30</th>\n",
       "      <td>47.406250</td>\n",
       "      <td>45.718750</td>\n",
       "      <td>0.036910</td>\n",
       "      <td>0.036910</td>\n",
       "      <td>0.036910</td>\n",
       "      <td>NaN</td>\n",
       "    </tr>\n",
       "    <tr>\n",
       "      <th>2000-05-31</th>\n",
       "      <td>47.578125</td>\n",
       "      <td>47.406250</td>\n",
       "      <td>0.003626</td>\n",
       "      <td>0.003626</td>\n",
       "      <td>0.003626</td>\n",
       "      <td>NaN</td>\n",
       "    </tr>\n",
       "    <tr>\n",
       "      <th>2000-06-01</th>\n",
       "      <td>48.656250</td>\n",
       "      <td>47.578125</td>\n",
       "      <td>0.022660</td>\n",
       "      <td>0.022660</td>\n",
       "      <td>0.022660</td>\n",
       "      <td>NaN</td>\n",
       "    </tr>\n",
       "    <tr>\n",
       "      <th>2000-06-02</th>\n",
       "      <td>51.187500</td>\n",
       "      <td>48.656250</td>\n",
       "      <td>0.052023</td>\n",
       "      <td>0.052023</td>\n",
       "      <td>0.052023</td>\n",
       "      <td>NaN</td>\n",
       "    </tr>\n",
       "    <tr>\n",
       "      <th>2000-06-05</th>\n",
       "      <td>51.000000</td>\n",
       "      <td>51.187500</td>\n",
       "      <td>-0.003663</td>\n",
       "      <td>-0.003663</td>\n",
       "      <td>-0.003663</td>\n",
       "      <td>0.115516</td>\n",
       "    </tr>\n",
       "    <tr>\n",
       "      <th>2000-06-06</th>\n",
       "      <td>51.500000</td>\n",
       "      <td>51.000000</td>\n",
       "      <td>0.009804</td>\n",
       "      <td>0.009804</td>\n",
       "      <td>0.009804</td>\n",
       "      <td>0.086355</td>\n",
       "    </tr>\n",
       "    <tr>\n",
       "      <th>2000-06-07</th>\n",
       "      <td>51.562500</td>\n",
       "      <td>51.500000</td>\n",
       "      <td>0.001214</td>\n",
       "      <td>0.001214</td>\n",
       "      <td>0.001214</td>\n",
       "      <td>0.083744</td>\n",
       "    </tr>\n",
       "    <tr>\n",
       "      <th>2000-06-08</th>\n",
       "      <td>51.437500</td>\n",
       "      <td>51.562500</td>\n",
       "      <td>-0.002424</td>\n",
       "      <td>-0.002424</td>\n",
       "      <td>-0.002424</td>\n",
       "      <td>0.057161</td>\n",
       "    </tr>\n",
       "    <tr>\n",
       "      <th>2000-06-09</th>\n",
       "      <td>52.343750</td>\n",
       "      <td>51.437500</td>\n",
       "      <td>0.017618</td>\n",
       "      <td>0.017618</td>\n",
       "      <td>0.017618</td>\n",
       "      <td>0.022589</td>\n",
       "    </tr>\n",
       "  </tbody>\n",
       "</table>\n",
       "</div>"
      ],
      "text/plain": [
       "              price_t  price_t-1  returns_manual  returns_pct_change_method  \\\n",
       "Date                                                                          \n",
       "2000-05-26  45.718750        NaN             NaN                        NaN   \n",
       "2000-05-30  47.406250  45.718750        0.036910                   0.036910   \n",
       "2000-05-31  47.578125  47.406250        0.003626                   0.003626   \n",
       "2000-06-01  48.656250  47.578125        0.022660                   0.022660   \n",
       "2000-06-02  51.187500  48.656250        0.052023                   0.052023   \n",
       "2000-06-05  51.000000  51.187500       -0.003663                  -0.003663   \n",
       "2000-06-06  51.500000  51.000000        0.009804                   0.009804   \n",
       "2000-06-07  51.562500  51.500000        0.001214                   0.001214   \n",
       "2000-06-08  51.437500  51.562500       -0.002424                  -0.002424   \n",
       "2000-06-09  52.343750  51.437500        0.017618                   0.017618   \n",
       "\n",
       "             returns  weekly_returns  \n",
       "Date                                  \n",
       "2000-05-26       NaN             NaN  \n",
       "2000-05-30  0.036910             NaN  \n",
       "2000-05-31  0.003626             NaN  \n",
       "2000-06-01  0.022660             NaN  \n",
       "2000-06-02  0.052023             NaN  \n",
       "2000-06-05 -0.003663        0.115516  \n",
       "2000-06-06  0.009804        0.086355  \n",
       "2000-06-07  0.001214        0.083744  \n",
       "2000-06-08 -0.002424        0.057161  \n",
       "2000-06-09  0.017618        0.022589  "
      ]
     },
     "execution_count": 59,
     "metadata": {},
     "output_type": "execute_result"
    }
   ],
   "source": [
    "df['weekly_returns'] = df['price_t'] / df['price_t'].shift(5) - 1\n",
    "df.head(10)"
   ]
  },
  {
   "cell_type": "code",
   "execution_count": 60,
   "id": "e185e6e0-f4c9-4b82-acf5-9f7e5fa8ce42",
   "metadata": {},
   "outputs": [
    {
     "data": {
      "text/plain": [
       "<Axes: xlabel='Date'>"
      ]
     },
     "execution_count": 60,
     "metadata": {},
     "output_type": "execute_result"
    },
    {
     "data": {
      "image/png": "[encoded data removed]",
      "text/plain": [
       "<Figure size 1200x800 with 1 Axes>"
      ]
     },
     "metadata": {},
     "output_type": "display_data"
    }
   ],
   "source": [
    "df['weekly_returns'].plot(figsize=(12,8))"
   ]
  },
  {
   "cell_type": "code",
   "execution_count": 63,
   "id": "ca4556f8-be07-4035-a35d-6a6f7d87dc93",
   "metadata": {},
   "outputs": [
    {
     "data": {
      "text/plain": [
       "0.001591453634489045"
      ]
     },
     "execution_count": 63,
     "metadata": {},
     "output_type": "execute_result"
    }
   ],
   "source": [
    "iwm_weekly_returns_mean = df['weekly_returns'].mean()\n",
    "iwm_weekly_returns_mean"
   ]
  },
  {
   "cell_type": "code",
   "execution_count": 66,
   "id": "d0adbbd0-205f-4d7e-a9a1-82a379738b24",
   "metadata": {},
   "outputs": [
    {
     "data": {
      "text/plain": [
       "0.08275558899343033"
      ]
     },
     "execution_count": 66,
     "metadata": {},
     "output_type": "execute_result"
    }
   ],
   "source": [
    "iwm_weekly_mean_crude = iwm_weekly_returns_mean * 52\n",
    "iwm_weekly_mean_crude"
   ]
  },
  {
   "cell_type": "code",
   "execution_count": 67,
   "id": "3a6395a5-1910-49b1-ba0d-f139f7c95e1c",
   "metadata": {},
   "outputs": [
    {
     "data": {
      "text/plain": [
       "0.08620482416793762"
      ]
     },
     "execution_count": 67,
     "metadata": {},
     "output_type": "execute_result"
    }
   ],
   "source": [
    "iwm_weekly_mean_soph = (1 + iwm_weekly_returns_mean) ** 52 - 1\n",
    "iwm_weekly_mean_soph"
   ]
  },
  {
   "cell_type": "markdown",
   "id": "1b635533-faeb-4d34-8ee9-65d5085b8fd2",
   "metadata": {},
   "source": [
    "### Problem 2: Extend the getExpectedReturns function created in the video to  \n",
    "### &emsp;&emsp;&emsp;&emsp; incorporate computations of Expected Returns using weekly data AND daily data."
   ]
  },
  {
   "cell_type": "code",
   "execution_count": 70,
   "id": "5de5aaec-df5f-4aba-8dc9-2be9d4af19f2",
   "metadata": {},
   "outputs": [],
   "source": [
    "def getExpectedReturns(prices, period='daily', method='soph'):\n",
    "    if period == 'daily':\n",
    "        interval = 1\n",
    "        compound_factor = 252\n",
    "    else:\n",
    "        interval = 5\n",
    "        compound_factor = 52\n",
    "    returns = (prices / prices.shift(interval)) - 1\n",
    "\n",
    "    avg_return = returns.mean()\n",
    "\n",
    "    if method == 'soph':\n",
    "        annualized_return = (1 + avg_return) ** compound_factor - 1\n",
    "    else:\n",
    "        annualized_return = avg_return * compound_factor\n",
    "\n",
    "    return annualized_return"
   ]
  },
  {
   "cell_type": "code",
   "execution_count": 71,
   "id": "fc1d9ad9-ad57-467e-bbe2-20a3ef5c609c",
   "metadata": {},
   "outputs": [
    {
     "data": {
      "text/html": [
       "<div>\n",
       "<style scoped>\n",
       "    .dataframe tbody tr th:only-of-type {\n",
       "        vertical-align: middle;\n",
       "    }\n",
       "\n",
       "    .dataframe tbody tr th {\n",
       "        vertical-align: top;\n",
       "    }\n",
       "\n",
       "    .dataframe thead th {\n",
       "        text-align: right;\n",
       "    }\n",
       "</style>\n",
       "<table border=\"1\" class=\"dataframe\">\n",
       "  <thead>\n",
       "    <tr style=\"text-align: right;\">\n",
       "      <th></th>\n",
       "      <th>price_t</th>\n",
       "      <th>price_t-1</th>\n",
       "      <th>returns_manual</th>\n",
       "      <th>returns_pct_change_method</th>\n",
       "      <th>returns</th>\n",
       "      <th>weekly_returns</th>\n",
       "    </tr>\n",
       "    <tr>\n",
       "      <th>Date</th>\n",
       "      <th></th>\n",
       "      <th></th>\n",
       "      <th></th>\n",
       "      <th></th>\n",
       "      <th></th>\n",
       "      <th></th>\n",
       "    </tr>\n",
       "  </thead>\n",
       "  <tbody>\n",
       "    <tr>\n",
       "      <th>2000-05-26</th>\n",
       "      <td>45.718750</td>\n",
       "      <td>NaN</td>\n",
       "      <td>NaN</td>\n",
       "      <td>NaN</td>\n",
       "      <td>NaN</td>\n",
       "      <td>NaN</td>\n",
       "    </tr>\n",
       "    <tr>\n",
       "      <th>2000-05-30</th>\n",
       "      <td>47.406250</td>\n",
       "      <td>45.718750</td>\n",
       "      <td>0.036910</td>\n",
       "      <td>0.036910</td>\n",
       "      <td>0.036910</td>\n",
       "      <td>NaN</td>\n",
       "    </tr>\n",
       "    <tr>\n",
       "      <th>2000-05-31</th>\n",
       "      <td>47.578125</td>\n",
       "      <td>47.406250</td>\n",
       "      <td>0.003626</td>\n",
       "      <td>0.003626</td>\n",
       "      <td>0.003626</td>\n",
       "      <td>NaN</td>\n",
       "    </tr>\n",
       "    <tr>\n",
       "      <th>2000-06-01</th>\n",
       "      <td>48.656250</td>\n",
       "      <td>47.578125</td>\n",
       "      <td>0.022660</td>\n",
       "      <td>0.022660</td>\n",
       "      <td>0.022660</td>\n",
       "      <td>NaN</td>\n",
       "    </tr>\n",
       "    <tr>\n",
       "      <th>2000-06-02</th>\n",
       "      <td>51.187500</td>\n",
       "      <td>48.656250</td>\n",
       "      <td>0.052023</td>\n",
       "      <td>0.052023</td>\n",
       "      <td>0.052023</td>\n",
       "      <td>NaN</td>\n",
       "    </tr>\n",
       "  </tbody>\n",
       "</table>\n",
       "</div>"
      ],
      "text/plain": [
       "              price_t  price_t-1  returns_manual  returns_pct_change_method  \\\n",
       "Date                                                                          \n",
       "2000-05-26  45.718750        NaN             NaN                        NaN   \n",
       "2000-05-30  47.406250  45.718750        0.036910                   0.036910   \n",
       "2000-05-31  47.578125  47.406250        0.003626                   0.003626   \n",
       "2000-06-01  48.656250  47.578125        0.022660                   0.022660   \n",
       "2000-06-02  51.187500  48.656250        0.052023                   0.052023   \n",
       "\n",
       "             returns  weekly_returns  \n",
       "Date                                  \n",
       "2000-05-26       NaN             NaN  \n",
       "2000-05-30  0.036910             NaN  \n",
       "2000-05-31  0.003626             NaN  \n",
       "2000-06-01  0.022660             NaN  \n",
       "2000-06-02  0.052023             NaN  "
      ]
     },
     "execution_count": 71,
     "metadata": {},
     "output_type": "execute_result"
    }
   ],
   "source": [
    "df.head()"
   ]
  },
  {
   "cell_type": "code",
   "execution_count": 72,
   "id": "31cd16f2-b654-4d68-a6b0-33278b76fa84",
   "metadata": {},
   "outputs": [
    {
     "data": {
      "text/plain": [
       "0.0888402365996408"
      ]
     },
     "execution_count": 72,
     "metadata": {},
     "output_type": "execute_result"
    }
   ],
   "source": [
    "# soph method and daily\n",
    "getExpectedReturns(df['price_t'])"
   ]
  },
  {
   "cell_type": "code",
   "execution_count": 74,
   "id": "7e68a7c8-1345-4c3d-bba8-2c3b5fc8f5bc",
   "metadata": {},
   "outputs": [
    {
     "data": {
      "text/plain": [
       "0.08620482416793762"
      ]
     },
     "execution_count": 74,
     "metadata": {},
     "output_type": "execute_result"
    }
   ],
   "source": [
    "# soph method and weekly\n",
    "getExpectedReturns(df['price_t'], period='weekly')"
   ]
  },
  {
   "cell_type": "code",
   "execution_count": 76,
   "id": "2c4f5e16-e392-4e12-b22f-2a20aaa4cbe8",
   "metadata": {},
   "outputs": [
    {
     "data": {
      "text/plain": [
       "0.08512750178728565"
      ]
     },
     "execution_count": 76,
     "metadata": {},
     "output_type": "execute_result"
    }
   ],
   "source": [
    "# crude method and daily\n",
    "getExpectedReturns(df['price_t'], method='crude', period='daily')"
   ]
  },
  {
   "cell_type": "code",
   "execution_count": 77,
   "id": "b030cc53-7e0e-42da-a076-db0745eb0119",
   "metadata": {},
   "outputs": [
    {
     "data": {
      "text/plain": [
       "0.08275558899343033"
      ]
     },
     "execution_count": 77,
     "metadata": {},
     "output_type": "execute_result"
    }
   ],
   "source": [
    "# crude method and daily\n",
    "getExpectedReturns(df['price_t'], method='crude', period='weekly')"
   ]
  },
  {
   "cell_type": "markdown",
   "id": "f76272da-fcda-4beb-a709-2ecc497816b1",
   "metadata": {},
   "source": [
    "# Comparing IWM to SPY"
   ]
  },
  {
   "cell_type": "code",
   "execution_count": 100,
   "id": "bc6bca37-51a8-47c3-91b1-fdccc565ab84",
   "metadata": {},
   "outputs": [
    {
     "name": "stdout",
     "output_type": "stream",
     "text": [
      "[*********************100%%**********************]  1 of 1 completed\n"
     ]
    }
   ],
   "source": [
    "# Get the data for the stock SPY\n",
    "ticker = 'SPY'\n",
    "start_date = '2012-01-01'\n",
    "end_date = today_str\n",
    "data = yf.download(ticker, start_date, today_str)"
   ]
  },
  {
   "cell_type": "code",
   "execution_count": 104,
   "id": "711dbb7f-79af-448c-9465-0450b647d5bd",
   "metadata": {},
   "outputs": [
    {
     "data": {
      "text/html": [
       "<div>\n",
       "<style scoped>\n",
       "    .dataframe tbody tr th:only-of-type {\n",
       "        vertical-align: middle;\n",
       "    }\n",
       "\n",
       "    .dataframe tbody tr th {\n",
       "        vertical-align: top;\n",
       "    }\n",
       "\n",
       "    .dataframe thead th {\n",
       "        text-align: right;\n",
       "    }\n",
       "</style>\n",
       "<table border=\"1\" class=\"dataframe\">\n",
       "  <thead>\n",
       "    <tr style=\"text-align: right;\">\n",
       "      <th></th>\n",
       "      <th>Open</th>\n",
       "      <th>High</th>\n",
       "      <th>Low</th>\n",
       "      <th>Close</th>\n",
       "      <th>Adj Close</th>\n",
       "      <th>Volume</th>\n",
       "    </tr>\n",
       "    <tr>\n",
       "      <th>Date</th>\n",
       "      <th></th>\n",
       "      <th></th>\n",
       "      <th></th>\n",
       "      <th></th>\n",
       "      <th></th>\n",
       "      <th></th>\n",
       "    </tr>\n",
       "  </thead>\n",
       "  <tbody>\n",
       "    <tr>\n",
       "      <th>2012-01-03</th>\n",
       "      <td>127.760002</td>\n",
       "      <td>128.380005</td>\n",
       "      <td>127.430000</td>\n",
       "      <td>127.500000</td>\n",
       "      <td>102.458961</td>\n",
       "      <td>193697900</td>\n",
       "    </tr>\n",
       "    <tr>\n",
       "      <th>2012-01-04</th>\n",
       "      <td>127.199997</td>\n",
       "      <td>127.809998</td>\n",
       "      <td>126.709999</td>\n",
       "      <td>127.699997</td>\n",
       "      <td>102.619690</td>\n",
       "      <td>127186500</td>\n",
       "    </tr>\n",
       "    <tr>\n",
       "      <th>2012-01-05</th>\n",
       "      <td>127.010002</td>\n",
       "      <td>128.229996</td>\n",
       "      <td>126.430000</td>\n",
       "      <td>128.039993</td>\n",
       "      <td>102.892899</td>\n",
       "      <td>173895000</td>\n",
       "    </tr>\n",
       "    <tr>\n",
       "      <th>2012-01-06</th>\n",
       "      <td>128.199997</td>\n",
       "      <td>128.220001</td>\n",
       "      <td>127.290001</td>\n",
       "      <td>127.709999</td>\n",
       "      <td>102.627716</td>\n",
       "      <td>148050000</td>\n",
       "    </tr>\n",
       "    <tr>\n",
       "      <th>2012-01-09</th>\n",
       "      <td>128.000000</td>\n",
       "      <td>128.179993</td>\n",
       "      <td>127.410004</td>\n",
       "      <td>128.020004</td>\n",
       "      <td>102.876854</td>\n",
       "      <td>99530200</td>\n",
       "    </tr>\n",
       "  </tbody>\n",
       "</table>\n",
       "</div>"
      ],
      "text/plain": [
       "                  Open        High         Low       Close   Adj Close  \\\n",
       "Date                                                                     \n",
       "2012-01-03  127.760002  128.380005  127.430000  127.500000  102.458961   \n",
       "2012-01-04  127.199997  127.809998  126.709999  127.699997  102.619690   \n",
       "2012-01-05  127.010002  128.229996  126.430000  128.039993  102.892899   \n",
       "2012-01-06  128.199997  128.220001  127.290001  127.709999  102.627716   \n",
       "2012-01-09  128.000000  128.179993  127.410004  128.020004  102.876854   \n",
       "\n",
       "               Volume  \n",
       "Date                   \n",
       "2012-01-03  193697900  \n",
       "2012-01-04  127186500  \n",
       "2012-01-05  173895000  \n",
       "2012-01-06  148050000  \n",
       "2012-01-09   99530200  "
      ]
     },
     "execution_count": 104,
     "metadata": {},
     "output_type": "execute_result"
    }
   ],
   "source": [
    "data.head()"
   ]
  },
  {
   "cell_type": "code",
   "execution_count": 105,
   "id": "33d46912-9eed-4799-a9db-cf19e15bf83e",
   "metadata": {},
   "outputs": [
    {
     "data": {
      "text/plain": [
       "0.12634572977051794"
      ]
     },
     "execution_count": 105,
     "metadata": {},
     "output_type": "execute_result"
    }
   ],
   "source": [
    "getExpectedReturns(data['Close'], period='daily')"
   ]
  },
  {
   "cell_type": "code",
   "execution_count": 106,
   "id": "3c684fa8-69de-445c-a7f9-7dc731c99eba",
   "metadata": {},
   "outputs": [
    {
     "data": {
      "text/plain": [
       "0.12740673099433608"
      ]
     },
     "execution_count": 106,
     "metadata": {},
     "output_type": "execute_result"
    }
   ],
   "source": [
    "getExpectedReturns(data['Close'], period='weekly')"
   ]
  },
  {
   "cell_type": "code",
   "execution_count": 107,
   "id": "db2d952b-62bd-4fd8-a02e-c66efa9b8986",
   "metadata": {},
   "outputs": [
    {
     "name": "stdout",
     "output_type": "stream",
     "text": [
      "[*********************100%%**********************]  1 of 1 completed\n"
     ]
    }
   ],
   "source": [
    "# Get the data for the stock IWM\n",
    "ticker = 'IWM'\n",
    "start_date = '2012-01-01'\n",
    "end_date = today_str\n",
    "data = yf.download(ticker, start_date, today_str)"
   ]
  },
  {
   "cell_type": "code",
   "execution_count": 108,
   "id": "0f0ed736-dc7d-4a1c-9e47-c1b21223d2e9",
   "metadata": {},
   "outputs": [
    {
     "data": {
      "text/plain": [
       "0.09545755844328463"
      ]
     },
     "execution_count": 108,
     "metadata": {},
     "output_type": "execute_result"
    }
   ],
   "source": [
    "getExpectedReturns(data['Close'], period='daily')"
   ]
  },
  {
   "cell_type": "code",
   "execution_count": 109,
   "id": "a199cd4f-2f90-4769-9de6-043e4a7a912b",
   "metadata": {},
   "outputs": [
    {
     "data": {
      "text/plain": [
       "0.09850417561495362"
      ]
     },
     "execution_count": 109,
     "metadata": {},
     "output_type": "execute_result"
    }
   ],
   "source": [
    "getExpectedReturns(data['Close'], period='weekly')"
   ]
  },
  {
   "cell_type": "markdown",
   "id": "8026566c-ed5f-4edc-92f9-7f79786cd21b",
   "metadata": {},
   "source": [
    "# Assignment #4: Estimating The Total Risk of a Stock II - Applied"
   ]
  },
  {
   "cell_type": "markdown",
   "id": "525e9e10-8fc7-4ef0-84ff-e4286de6d4ef",
   "metadata": {},
   "source": [
    "## Variance and std"
   ]
  },
  {
   "cell_type": "code",
   "execution_count": 121,
   "id": "b3f810f3-c027-4dfc-870d-743420d8f1ca",
   "metadata": {},
   "outputs": [
    {
     "name": "stdout",
     "output_type": "stream",
     "text": [
      "[*********************100%%**********************]  1 of 1 completed\n"
     ]
    },
    {
     "data": {
      "text/html": [
       "<div>\n",
       "<style scoped>\n",
       "    .dataframe tbody tr th:only-of-type {\n",
       "        vertical-align: middle;\n",
       "    }\n",
       "\n",
       "    .dataframe tbody tr th {\n",
       "        vertical-align: top;\n",
       "    }\n",
       "\n",
       "    .dataframe thead th {\n",
       "        text-align: right;\n",
       "    }\n",
       "</style>\n",
       "<table border=\"1\" class=\"dataframe\">\n",
       "  <thead>\n",
       "    <tr style=\"text-align: right;\">\n",
       "      <th></th>\n",
       "      <th>Open</th>\n",
       "      <th>High</th>\n",
       "      <th>Low</th>\n",
       "      <th>Close</th>\n",
       "      <th>Adj Close</th>\n",
       "      <th>Volume</th>\n",
       "    </tr>\n",
       "    <tr>\n",
       "      <th>Date</th>\n",
       "      <th></th>\n",
       "      <th></th>\n",
       "      <th></th>\n",
       "      <th></th>\n",
       "      <th></th>\n",
       "      <th></th>\n",
       "    </tr>\n",
       "  </thead>\n",
       "  <tbody>\n",
       "    <tr>\n",
       "      <th>2000-05-26</th>\n",
       "      <td>45.531250</td>\n",
       "      <td>45.71875</td>\n",
       "      <td>45.312500</td>\n",
       "      <td>45.718750</td>\n",
       "      <td>33.606350</td>\n",
       "      <td>74800</td>\n",
       "    </tr>\n",
       "    <tr>\n",
       "      <th>2000-05-30</th>\n",
       "      <td>46.375000</td>\n",
       "      <td>47.40625</td>\n",
       "      <td>46.375000</td>\n",
       "      <td>47.406250</td>\n",
       "      <td>34.846767</td>\n",
       "      <td>57600</td>\n",
       "    </tr>\n",
       "    <tr>\n",
       "      <th>2000-05-31</th>\n",
       "      <td>47.562500</td>\n",
       "      <td>48.18750</td>\n",
       "      <td>47.562500</td>\n",
       "      <td>47.578125</td>\n",
       "      <td>34.973125</td>\n",
       "      <td>36000</td>\n",
       "    </tr>\n",
       "    <tr>\n",
       "      <th>2000-06-01</th>\n",
       "      <td>48.554688</td>\n",
       "      <td>48.65625</td>\n",
       "      <td>48.554688</td>\n",
       "      <td>48.656250</td>\n",
       "      <td>35.765621</td>\n",
       "      <td>7000</td>\n",
       "    </tr>\n",
       "    <tr>\n",
       "      <th>2000-06-02</th>\n",
       "      <td>50.859375</td>\n",
       "      <td>51.18750</td>\n",
       "      <td>50.859375</td>\n",
       "      <td>51.187500</td>\n",
       "      <td>37.626247</td>\n",
       "      <td>29400</td>\n",
       "    </tr>\n",
       "  </tbody>\n",
       "</table>\n",
       "</div>"
      ],
      "text/plain": [
       "                 Open      High        Low      Close  Adj Close  Volume\n",
       "Date                                                                    \n",
       "2000-05-26  45.531250  45.71875  45.312500  45.718750  33.606350   74800\n",
       "2000-05-30  46.375000  47.40625  46.375000  47.406250  34.846767   57600\n",
       "2000-05-31  47.562500  48.18750  47.562500  47.578125  34.973125   36000\n",
       "2000-06-01  48.554688  48.65625  48.554688  48.656250  35.765621    7000\n",
       "2000-06-02  50.859375  51.18750  50.859375  51.187500  37.626247   29400"
      ]
     },
     "execution_count": 121,
     "metadata": {},
     "output_type": "execute_result"
    }
   ],
   "source": [
    "# Get the data for the stock IWM\n",
    "ticker = 'IWM'\n",
    "start_date = '2000-01-01'\n",
    "end_date = today_str\n",
    "data = yf.download(ticker, start_date, today_str)\n",
    "data.head()"
   ]
  },
  {
   "cell_type": "code",
   "execution_count": 122,
   "id": "28e76ed3-ec93-4c6b-91d2-9631b7c99cd4",
   "metadata": {},
   "outputs": [
    {
     "data": {
      "text/html": [
       "<div>\n",
       "<style scoped>\n",
       "    .dataframe tbody tr th:only-of-type {\n",
       "        vertical-align: middle;\n",
       "    }\n",
       "\n",
       "    .dataframe tbody tr th {\n",
       "        vertical-align: top;\n",
       "    }\n",
       "\n",
       "    .dataframe thead th {\n",
       "        text-align: right;\n",
       "    }\n",
       "</style>\n",
       "<table border=\"1\" class=\"dataframe\">\n",
       "  <thead>\n",
       "    <tr style=\"text-align: right;\">\n",
       "      <th></th>\n",
       "      <th>price_t</th>\n",
       "    </tr>\n",
       "    <tr>\n",
       "      <th>Date</th>\n",
       "      <th></th>\n",
       "    </tr>\n",
       "  </thead>\n",
       "  <tbody>\n",
       "    <tr>\n",
       "      <th>2000-05-26</th>\n",
       "      <td>45.718750</td>\n",
       "    </tr>\n",
       "    <tr>\n",
       "      <th>2000-05-30</th>\n",
       "      <td>47.406250</td>\n",
       "    </tr>\n",
       "    <tr>\n",
       "      <th>2000-05-31</th>\n",
       "      <td>47.578125</td>\n",
       "    </tr>\n",
       "    <tr>\n",
       "      <th>2000-06-01</th>\n",
       "      <td>48.656250</td>\n",
       "    </tr>\n",
       "    <tr>\n",
       "      <th>2000-06-02</th>\n",
       "      <td>51.187500</td>\n",
       "    </tr>\n",
       "  </tbody>\n",
       "</table>\n",
       "</div>"
      ],
      "text/plain": [
       "              price_t\n",
       "Date                 \n",
       "2000-05-26  45.718750\n",
       "2000-05-30  47.406250\n",
       "2000-05-31  47.578125\n",
       "2000-06-01  48.656250\n",
       "2000-06-02  51.187500"
      ]
     },
     "execution_count": 122,
     "metadata": {},
     "output_type": "execute_result"
    }
   ],
   "source": [
    "iwm = pd.DataFrame(data['Close']).rename(columns={'Close':'price_t'})\n",
    "iwm.head()"
   ]
  },
  {
   "cell_type": "code",
   "execution_count": 123,
   "id": "22d9ff4b-d927-4fb8-8a50-69ef45e7c45c",
   "metadata": {},
   "outputs": [
    {
     "data": {
      "text/html": [
       "<div>\n",
       "<style scoped>\n",
       "    .dataframe tbody tr th:only-of-type {\n",
       "        vertical-align: middle;\n",
       "    }\n",
       "\n",
       "    .dataframe tbody tr th {\n",
       "        vertical-align: top;\n",
       "    }\n",
       "\n",
       "    .dataframe thead th {\n",
       "        text-align: right;\n",
       "    }\n",
       "</style>\n",
       "<table border=\"1\" class=\"dataframe\">\n",
       "  <thead>\n",
       "    <tr style=\"text-align: right;\">\n",
       "      <th></th>\n",
       "      <th>price_t</th>\n",
       "      <th>daily_returns</th>\n",
       "    </tr>\n",
       "    <tr>\n",
       "      <th>Date</th>\n",
       "      <th></th>\n",
       "      <th></th>\n",
       "    </tr>\n",
       "  </thead>\n",
       "  <tbody>\n",
       "    <tr>\n",
       "      <th>2000-05-26</th>\n",
       "      <td>45.718750</td>\n",
       "      <td>NaN</td>\n",
       "    </tr>\n",
       "    <tr>\n",
       "      <th>2000-05-30</th>\n",
       "      <td>47.406250</td>\n",
       "      <td>0.036910</td>\n",
       "    </tr>\n",
       "    <tr>\n",
       "      <th>2000-05-31</th>\n",
       "      <td>47.578125</td>\n",
       "      <td>0.003626</td>\n",
       "    </tr>\n",
       "    <tr>\n",
       "      <th>2000-06-01</th>\n",
       "      <td>48.656250</td>\n",
       "      <td>0.022660</td>\n",
       "    </tr>\n",
       "    <tr>\n",
       "      <th>2000-06-02</th>\n",
       "      <td>51.187500</td>\n",
       "      <td>0.052023</td>\n",
       "    </tr>\n",
       "  </tbody>\n",
       "</table>\n",
       "</div>"
      ],
      "text/plain": [
       "              price_t  daily_returns\n",
       "Date                                \n",
       "2000-05-26  45.718750            NaN\n",
       "2000-05-30  47.406250       0.036910\n",
       "2000-05-31  47.578125       0.003626\n",
       "2000-06-01  48.656250       0.022660\n",
       "2000-06-02  51.187500       0.052023"
      ]
     },
     "execution_count": 123,
     "metadata": {},
     "output_type": "execute_result"
    }
   ],
   "source": [
    "iwm['daily_returns'] = (iwm['price_t'] / iwm['price_t'].shift(1)) - 1\n",
    "iwm.head()"
   ]
  },
  {
   "cell_type": "code",
   "execution_count": 126,
   "id": "8e6ae679-48ef-4c05-955c-82a2369cafc7",
   "metadata": {},
   "outputs": [
    {
     "data": {
      "text/plain": [
       "0.00033780754677494306"
      ]
     },
     "execution_count": 126,
     "metadata": {},
     "output_type": "execute_result"
    }
   ],
   "source": [
    "iwm_mean = iwm['daily_returns'].mean()\n",
    "iwm_mean"
   ]
  },
  {
   "cell_type": "code",
   "execution_count": 127,
   "id": "af264102-1a7e-4162-8e7b-2cce0b634f27",
   "metadata": {},
   "outputs": [
    {
     "data": {
      "text/html": [
       "<div>\n",
       "<style scoped>\n",
       "    .dataframe tbody tr th:only-of-type {\n",
       "        vertical-align: middle;\n",
       "    }\n",
       "\n",
       "    .dataframe tbody tr th {\n",
       "        vertical-align: top;\n",
       "    }\n",
       "\n",
       "    .dataframe thead th {\n",
       "        text-align: right;\n",
       "    }\n",
       "</style>\n",
       "<table border=\"1\" class=\"dataframe\">\n",
       "  <thead>\n",
       "    <tr style=\"text-align: right;\">\n",
       "      <th></th>\n",
       "      <th>price_t</th>\n",
       "      <th>daily_returns</th>\n",
       "      <th>deviations</th>\n",
       "    </tr>\n",
       "    <tr>\n",
       "      <th>Date</th>\n",
       "      <th></th>\n",
       "      <th></th>\n",
       "      <th></th>\n",
       "    </tr>\n",
       "  </thead>\n",
       "  <tbody>\n",
       "    <tr>\n",
       "      <th>2000-05-26</th>\n",
       "      <td>45.718750</td>\n",
       "      <td>NaN</td>\n",
       "      <td>NaN</td>\n",
       "    </tr>\n",
       "    <tr>\n",
       "      <th>2000-05-30</th>\n",
       "      <td>47.406250</td>\n",
       "      <td>0.036910</td>\n",
       "      <td>0.036573</td>\n",
       "    </tr>\n",
       "    <tr>\n",
       "      <th>2000-05-31</th>\n",
       "      <td>47.578125</td>\n",
       "      <td>0.003626</td>\n",
       "      <td>0.003288</td>\n",
       "    </tr>\n",
       "    <tr>\n",
       "      <th>2000-06-01</th>\n",
       "      <td>48.656250</td>\n",
       "      <td>0.022660</td>\n",
       "      <td>0.022322</td>\n",
       "    </tr>\n",
       "    <tr>\n",
       "      <th>2000-06-02</th>\n",
       "      <td>51.187500</td>\n",
       "      <td>0.052023</td>\n",
       "      <td>0.051685</td>\n",
       "    </tr>\n",
       "  </tbody>\n",
       "</table>\n",
       "</div>"
      ],
      "text/plain": [
       "              price_t  daily_returns  deviations\n",
       "Date                                            \n",
       "2000-05-26  45.718750            NaN         NaN\n",
       "2000-05-30  47.406250       0.036910    0.036573\n",
       "2000-05-31  47.578125       0.003626    0.003288\n",
       "2000-06-01  48.656250       0.022660    0.022322\n",
       "2000-06-02  51.187500       0.052023    0.051685"
      ]
     },
     "execution_count": 127,
     "metadata": {},
     "output_type": "execute_result"
    }
   ],
   "source": [
    "iwm['deviations'] = iwm['daily_returns'] - iwm_mean\n",
    "iwm.head()"
   ]
  },
  {
   "cell_type": "code",
   "execution_count": 128,
   "id": "8b1b0c07-621c-4022-b89c-01d53b518d16",
   "metadata": {},
   "outputs": [
    {
     "data": {
      "text/html": [
       "<div>\n",
       "<style scoped>\n",
       "    .dataframe tbody tr th:only-of-type {\n",
       "        vertical-align: middle;\n",
       "    }\n",
       "\n",
       "    .dataframe tbody tr th {\n",
       "        vertical-align: top;\n",
       "    }\n",
       "\n",
       "    .dataframe thead th {\n",
       "        text-align: right;\n",
       "    }\n",
       "</style>\n",
       "<table border=\"1\" class=\"dataframe\">\n",
       "  <thead>\n",
       "    <tr style=\"text-align: right;\">\n",
       "      <th></th>\n",
       "      <th>price_t</th>\n",
       "      <th>daily_returns</th>\n",
       "      <th>deviations</th>\n",
       "      <th>squared_deviations</th>\n",
       "    </tr>\n",
       "    <tr>\n",
       "      <th>Date</th>\n",
       "      <th></th>\n",
       "      <th></th>\n",
       "      <th></th>\n",
       "      <th></th>\n",
       "    </tr>\n",
       "  </thead>\n",
       "  <tbody>\n",
       "    <tr>\n",
       "      <th>2000-05-26</th>\n",
       "      <td>45.718750</td>\n",
       "      <td>NaN</td>\n",
       "      <td>NaN</td>\n",
       "      <td>NaN</td>\n",
       "    </tr>\n",
       "    <tr>\n",
       "      <th>2000-05-30</th>\n",
       "      <td>47.406250</td>\n",
       "      <td>0.036910</td>\n",
       "      <td>0.036573</td>\n",
       "      <td>0.001338</td>\n",
       "    </tr>\n",
       "    <tr>\n",
       "      <th>2000-05-31</th>\n",
       "      <td>47.578125</td>\n",
       "      <td>0.003626</td>\n",
       "      <td>0.003288</td>\n",
       "      <td>0.000011</td>\n",
       "    </tr>\n",
       "    <tr>\n",
       "      <th>2000-06-01</th>\n",
       "      <td>48.656250</td>\n",
       "      <td>0.022660</td>\n",
       "      <td>0.022322</td>\n",
       "      <td>0.000498</td>\n",
       "    </tr>\n",
       "    <tr>\n",
       "      <th>2000-06-02</th>\n",
       "      <td>51.187500</td>\n",
       "      <td>0.052023</td>\n",
       "      <td>0.051685</td>\n",
       "      <td>0.002671</td>\n",
       "    </tr>\n",
       "  </tbody>\n",
       "</table>\n",
       "</div>"
      ],
      "text/plain": [
       "              price_t  daily_returns  deviations  squared_deviations\n",
       "Date                                                                \n",
       "2000-05-26  45.718750            NaN         NaN                 NaN\n",
       "2000-05-30  47.406250       0.036910    0.036573            0.001338\n",
       "2000-05-31  47.578125       0.003626    0.003288            0.000011\n",
       "2000-06-01  48.656250       0.022660    0.022322            0.000498\n",
       "2000-06-02  51.187500       0.052023    0.051685            0.002671"
      ]
     },
     "execution_count": 128,
     "metadata": {},
     "output_type": "execute_result"
    }
   ],
   "source": [
    "iwm['squared_deviations'] = iwm['deviations'] ** 2\n",
    "iwm.head()"
   ]
  },
  {
   "cell_type": "code",
   "execution_count": 131,
   "id": "b00d7932-a131-4a5a-be5f-d4add310cdc7",
   "metadata": {},
   "outputs": [
    {
     "data": {
      "text/plain": [
       "1.366234528894236"
      ]
     },
     "execution_count": 131,
     "metadata": {},
     "output_type": "execute_result"
    }
   ],
   "source": [
    "sum_squared_deviations = np.sum(iwm['squared_deviations'])\n",
    "sum_squared_deviations"
   ]
  },
  {
   "cell_type": "markdown",
   "id": "094df9e2-1f49-44fc-abaa-a51f2674e6f1",
   "metadata": {},
   "source": [
    "### Daily Variance"
   ]
  },
  {
   "cell_type": "code",
   "execution_count": 134,
   "id": "c82cec3e-6439-4c0d-88ce-563e873b959f",
   "metadata": {},
   "outputs": [
    {
     "data": {
      "text/plain": [
       "0.00023152593270534417"
      ]
     },
     "execution_count": 134,
     "metadata": {},
     "output_type": "execute_result"
    }
   ],
   "source": [
    "var_iwm = sum_squared_deviations / (len(iwm['squared_deviations'].dropna()) - 1)\n",
    "var_iwm"
   ]
  },
  {
   "cell_type": "markdown",
   "id": "19e91f81-1e95-482c-bb3c-97e427be776e",
   "metadata": {},
   "source": [
    "### Daily std"
   ]
  },
  {
   "cell_type": "code",
   "execution_count": 143,
   "id": "8746976e-0092-40c5-9950-c4f20a9d0497",
   "metadata": {},
   "outputs": [
    {
     "data": {
      "text/plain": [
       "0.015215976232412567"
      ]
     },
     "execution_count": 143,
     "metadata": {},
     "output_type": "execute_result"
    }
   ],
   "source": [
    "std_iwm = np.sqrt(var_iwm)\n",
    "std_iwm"
   ]
  },
  {
   "cell_type": "markdown",
   "id": "dbb51f79-9f23-40b6-aa7e-f43f90f1ccbf",
   "metadata": {},
   "source": [
    "### Annualized std"
   ]
  },
  {
   "cell_type": "code",
   "execution_count": 144,
   "id": "8cf432ac-f8e2-419e-a50d-4d9143118b11",
   "metadata": {},
   "outputs": [
    {
     "data": {
      "text/plain": [
       "0.2415461343961992"
      ]
     },
     "execution_count": 144,
     "metadata": {},
     "output_type": "execute_result"
    }
   ],
   "source": [
    "annualized_std = std_iwm * np.sqrt(252)\n",
    "annualized_std"
   ]
  },
  {
   "cell_type": "markdown",
   "id": "09ed20b5-d13e-458b-a2e4-1a694727e71c",
   "metadata": {},
   "source": [
    "### Portfolio Risk Example"
   ]
  },
  {
   "cell_type": "markdown",
   "id": "bc06678b-8cd6-4c94-ba48-086aed597bee",
   "metadata": {},
   "source": [
    "NFLX - 20 shares  \n",
    "SPOT - 20 shares  \n",
    "  \n",
    "NFLX price - $354.67  \n",
    "SPOT price - $174.45  \n",
    "  \n",
    "Total Risk NFLX - 24.39%  \n",
    "Total Risk SPOT - 31.94%  \n",
    "  \n",
    "Covariance - 0.01792  "
   ]
  },
  {
   "cell_type": "code",
   "execution_count": 146,
   "id": "742dc023-7bc7-46d8-9d6a-4c2ba6e6cce5",
   "metadata": {},
   "outputs": [],
   "source": [
    "nflx_price = 354.67\n",
    "spot_price = 174.45"
   ]
  },
  {
   "cell_type": "code",
   "execution_count": 149,
   "id": "2880029d-bf42-420f-b42a-4909322846ec",
   "metadata": {},
   "outputs": [],
   "source": [
    "nflx_risk = 24.39 / 100\n",
    "spot_risk = 31.94 / 100"
   ]
  },
  {
   "cell_type": "code",
   "execution_count": 150,
   "id": "9c48064a-de31-4fef-b0cd-b9740621cc80",
   "metadata": {},
   "outputs": [],
   "source": [
    "covariance = 0.01792"
   ]
  },
  {
   "cell_type": "code",
   "execution_count": 147,
   "id": "f05b6eaf-274e-439c-a8ef-30866e114c9f",
   "metadata": {},
   "outputs": [
    {
     "data": {
      "text/plain": [
       "10582.400000000001"
      ]
     },
     "execution_count": 147,
     "metadata": {},
     "output_type": "execute_result"
    }
   ],
   "source": [
    "pf_value = nflx_price * 20 + spot_price * 20\n",
    "pf_value"
   ]
  },
  {
   "cell_type": "code",
   "execution_count": 155,
   "id": "c75bdfa0-1e37-4186-8a48-22e23391a73a",
   "metadata": {},
   "outputs": [
    {
     "name": "stdout",
     "output_type": "stream",
     "text": [
      "NFLX: 0.6703016328999093\n",
      "SPOT: 0.32969836710009065\n"
     ]
    }
   ],
   "source": [
    "nflx_weight = (nflx_price * 20) / pf_value\n",
    "spot_weight = (spot_price * 20) / pf_value\n",
    "print(\"NFLX:\", nflx_weight)\n",
    "print(\"SPOT:\", spot_weight)"
   ]
  },
  {
   "cell_type": "code",
   "execution_count": 158,
   "id": "0c95eb68-be4d-442b-aa5a-aaccf6bff9e7",
   "metadata": {},
   "outputs": [
    {
     "data": {
      "text/plain": [
       "0.0457376848661197"
      ]
     },
     "execution_count": 158,
     "metadata": {},
     "output_type": "execute_result"
    }
   ],
   "source": [
    "# (nflx_weight ^ 2 * nflx_risk ^ 2) + (spot_weight ^ 2 * nflx_risk ^ 2) + 2*nflx_weight*spot_weight*covariance(nflx,spot)\n",
    "pf_var = nflx_weight**2 * nflx_risk**2 + spot_weight**2 * spot_risk**2 + 2*nflx_weight*spot_weight*covariance\n",
    "pf_var"
   ]
  },
  {
   "cell_type": "code",
   "execution_count": 159,
   "id": "57e7620f-8a91-4190-b727-10f8ae6da177",
   "metadata": {},
   "outputs": [
    {
     "data": {
      "text/plain": [
       "0.21386370628538096"
      ]
     },
     "execution_count": 159,
     "metadata": {},
     "output_type": "execute_result"
    }
   ],
   "source": [
    "pf_std = np.sqrt(pf_var)\n",
    "pf_std"
   ]
  },
  {
   "cell_type": "code",
   "execution_count": null,
   "id": "a9205436-1913-4ef7-a22d-c8db8773e047",
   "metadata": {},
   "outputs": [],
   "source": []
  }
 ],
 "metadata": {
  "kernelspec": {
   "display_name": "Python 3 (ipykernel)",
   "language": "python",
   "name": "python3"
  },
  "language_info": {
   "codemirror_mode": {
    "name": "ipython",
    "version": 3
   },
   "file_extension": ".py",
   "mimetype": "text/x-python",
   "name": "python",
   "nbconvert_exporter": "python",
   "pygments_lexer": "ipython3",
   "version": "3.12.0"
  }
 },
 "nbformat": 4,
 "nbformat_minor": 5
}
